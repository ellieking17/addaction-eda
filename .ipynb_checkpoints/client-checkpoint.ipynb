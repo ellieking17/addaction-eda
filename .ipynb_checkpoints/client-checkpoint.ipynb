{
 "cells": [
  {
   "cell_type": "markdown",
   "metadata": {},
   "source": [
    "# Client table"
   ]
  },
  {
   "cell_type": "code",
   "execution_count": null,
   "metadata": {},
   "outputs": [],
   "source": [
    "import pandas as pd\n",
    "import matplotlib.pyplot as plt\n",
    "%matplotlib inline\n",
    "import pprint\n",
    "import missingno as msno\n",
    "from helper_functions import open_table_list_columns, groupby_percent, groupby_plotsize\n",
    "import os\n",
    "DATADIR = os.getenv('DATADIR')"
   ]
  },
  {
   "cell_type": "markdown",
   "metadata": {},
   "source": [
    "## Read in data "
   ]
  },
  {
   "cell_type": "code",
   "execution_count": null,
   "metadata": {},
   "outputs": [],
   "source": [
    "client = open_table_list_columns(DATADIR, 'Client')"
   ]
  },
  {
   "cell_type": "code",
   "execution_count": null,
   "metadata": {},
   "outputs": [],
   "source": [
    "print(\"There are {} rows in client and {} unique clients (Serial).\\nTherefore is {} that rows uniquely identify clients\".format(client.shape[0], client.Serial.nunique(), (client.shape[0]==client.Serial.nunique())))"
   ]
  },
  {
   "cell_type": "markdown",
   "metadata": {},
   "source": [
    "## Explore missing"
   ]
  },
  {
   "cell_type": "code",
   "execution_count": null,
   "metadata": {},
   "outputs": [],
   "source": [
    "msno.heatmap(client)"
   ]
  },
  {
   "cell_type": "code",
   "execution_count": null,
   "metadata": {},
   "outputs": [],
   "source": [
    "msno.matrix(client.sample(250))"
   ]
  },
  {
   "cell_type": "code",
   "execution_count": null,
   "metadata": {},
   "outputs": [],
   "source": [
    "msno.dendrogram(client, orientation='left')"
   ]
  },
  {
   "cell_type": "markdown",
   "metadata": {},
   "source": [
    "### Status"
   ]
  },
  {
   "cell_type": "code",
   "execution_count": null,
   "metadata": {},
   "outputs": [],
   "source": [
    "groupby_plotsize(client, 'Status')"
   ]
  },
  {
   "cell_type": "code",
   "execution_count": null,
   "metadata": {},
   "outputs": [],
   "source": [
    "groupby_percent(client, 'Status', \"Serial\")"
   ]
  },
  {
   "cell_type": "markdown",
   "metadata": {},
   "source": [
    "### Services"
   ]
  },
  {
   "cell_type": "code",
   "execution_count": null,
   "metadata": {},
   "outputs": [],
   "source": [
    "print(\"There are {} services in Addaction\".format(len(client.groupby('Service'))))"
   ]
  },
  {
   "cell_type": "code",
   "execution_count": null,
   "metadata": {},
   "outputs": [],
   "source": [
    "print(\"There are {} project codes in Addaction\".format(len(client.groupby('ProjectCode'))))"
   ]
  },
  {
   "cell_type": "markdown",
   "metadata": {},
   "source": [
    "### Gender\n",
    "Although be wary of this as the coding for M and F switched fomr 0 to 1 at some point!"
   ]
  },
  {
   "cell_type": "code",
   "execution_count": null,
   "metadata": {},
   "outputs": [],
   "source": [
    "groupby_plotsize(client, 'Gender')"
   ]
  },
  {
   "cell_type": "code",
   "execution_count": null,
   "metadata": {},
   "outputs": [],
   "source": [
    "groupby_percent(client, 'Gender', \"Serial\")"
   ]
  },
  {
   "cell_type": "markdown",
   "metadata": {},
   "source": [
    "### Relationship status"
   ]
  },
  {
   "cell_type": "code",
   "execution_count": null,
   "metadata": {},
   "outputs": [],
   "source": [
    "groupby_plotsize(client, 'RelationshipStatus')"
   ]
  },
  {
   "cell_type": "code",
   "execution_count": null,
   "metadata": {},
   "outputs": [],
   "source": [
    "groupby_percent(client, 'RelationshipStatus', 'Serial')"
   ]
  },
  {
   "cell_type": "markdown",
   "metadata": {},
   "source": [
    "Are these categoires mutually exclusive?"
   ]
  },
  {
   "cell_type": "code",
   "execution_count": null,
   "metadata": {},
   "outputs": [],
   "source": [
    "client.groupby('RelationshipStatus').size().sum()"
   ]
  },
  {
   "cell_type": "code",
   "execution_count": null,
   "metadata": {},
   "outputs": [],
   "source": [
    "print(\"There are {} clients with more than 1 relationship status\".format(sum(client.groupby(['Serial','RelationshipStatus']).size().groupby(level='Serial').sum()>1)))"
   ]
  },
  {
   "cell_type": "markdown",
   "metadata": {},
   "source": [
    "### Ethnicity"
   ]
  },
  {
   "cell_type": "markdown",
   "metadata": {},
   "source": [
    "These could be collapsed for modelling. What about?:\n",
    "- Married/Civil Partnership + Married + Civil Partnership + Cohabiting + With Partner\n",
    "- Single + Separated + Divorced + Widowed + Separated or Divorced + Never Married\n",
    "- Not known + missing\n",
    "\n",
    "ONS uses: \n",
    "Marital status indicates whether a person is legally married or not. This publication uses five categories of legal marital status: \n",
    "- single, never married or civil partnered\n",
    "\n",
    "- married, including separated (this category includes those in both opposite-sex and same-sex marriages)\n",
    "\n",
    "- civil partnered, including separated\n",
    "\n",
    "- divorced, including legally dissolved civil partners\n",
    "\n",
    "- widowed, including surviving civil partners"
   ]
  },
  {
   "cell_type": "code",
   "execution_count": null,
   "metadata": {},
   "outputs": [],
   "source": [
    "groupby_plotsize(client, 'Ethnic_Origin')"
   ]
  },
  {
   "cell_type": "code",
   "execution_count": null,
   "metadata": {},
   "outputs": [],
   "source": [
    "groupby_percent(client, 'Ethnic_Origin', 'Serial')"
   ]
  },
  {
   "cell_type": "markdown",
   "metadata": {},
   "source": [
    "These need to be collapsed. How about:\n",
    "\n",
    "- White British + White British (English) + White British (Scottish) + Other White + White: Polish + White irish + White British (N.Irish) + White British (Welsh) + White: Gypsy / Traveller\n",
    "- Other black + Caribbean + African + Black Back Scottish or Black British + African Carribean or Black: Black Black Scottish\n",
    "- White & Black Caribbean + White & Black Afircan + Other mixed + White and Asian\n",
    "- Other Asian + Indian + Pakistani + Bangladeshi + Chinese\n",
    "- Other + Other ethnic group: Arab\n",
    "\n",
    "\n",
    "ONS uses different for England/Wales/Scotland/NI. Here's England: \n",
    "What is your ethnic group?\n",
    "\n",
    "Choose one option that best describes your ethnic group or background\n",
    "\n",
    "White\n",
    "\n",
    "1. English/Welsh/Scottish/Northern Irish/British\n",
    "2. Irish\n",
    "3. Gypsy or Irish Traveller\n",
    "4. Any other White background, please describe\n",
    "\n",
    "Mixed/Multiple ethnic groups\n",
    "\n",
    "5. White and Black Caribbean\n",
    "6. White and Black African\n",
    "7. White and Asian\n",
    "8. Any other Mixed/Multiple ethnic background, please describe\n",
    "\n",
    "Asian/Asian British\n",
    "\n",
    "9. Indian\n",
    "10. Pakistani\n",
    "11. Bangladeshi\n",
    "12. Chinese\n",
    "13. Any other Asian background, please describe\n",
    "\n",
    "Black/ African/Caribbean/Black British\n",
    "\n",
    "14. African\n",
    "15. Caribbean\n",
    "16. Any other Black/African/Caribbean background, please describe\n",
    "\n",
    "Other ethnic group\n",
    "\n",
    "17. Arab\n",
    "18. Any other ethnic group, please describe"
   ]
  },
  {
   "cell_type": "markdown",
   "metadata": {},
   "source": [
    "### Other variables"
   ]
  },
  {
   "cell_type": "code",
   "execution_count": null,
   "metadata": {},
   "outputs": [],
   "source": [
    "groupby_plotsize(client, 'Religion')"
   ]
  },
  {
   "cell_type": "code",
   "execution_count": null,
   "metadata": {},
   "outputs": [],
   "source": [
    "groupby_plotsize(client, 'Sexuality')"
   ]
  },
  {
   "cell_type": "code",
   "execution_count": null,
   "metadata": {},
   "outputs": [],
   "source": [
    "groupby_plotsize(client, 'NoFixedAbode')"
   ]
  },
  {
   "cell_type": "code",
   "execution_count": null,
   "metadata": {},
   "outputs": [],
   "source": [
    "groupby_plotsize(client, 'Alert')"
   ]
  },
  {
   "cell_type": "code",
   "execution_count": null,
   "metadata": {},
   "outputs": [],
   "source": [
    "groupby_plotsize(client, 'Scrip_Index')"
   ]
  },
  {
   "cell_type": "code",
   "execution_count": null,
   "metadata": {},
   "outputs": [],
   "source": [
    "client.CaseNumber.nunique()"
   ]
  },
  {
   "cell_type": "markdown",
   "metadata": {},
   "source": [
    "Still haven;t looked at:\n",
    "- CurrentEpisode',\n",
    "- 'ProjectCode',\n",
    "- 'Alert',\n",
    "- 'CurrentKeyworker',\n",
    "- 'CaseNumber',\n",
    "- 'Office'"
   ]
  }
 ],
 "metadata": {
  "kernelspec": {
   "display_name": "Python 3",
   "language": "python",
   "name": "python3"
  },
  "language_info": {
   "codemirror_mode": {
    "name": "ipython",
    "version": 3
   },
   "file_extension": ".py",
   "mimetype": "text/x-python",
   "name": "python",
   "nbconvert_exporter": "python",
   "pygments_lexer": "ipython3",
   "version": "3.6.0"
  }
 },
 "nbformat": 4,
 "nbformat_minor": 2
}
