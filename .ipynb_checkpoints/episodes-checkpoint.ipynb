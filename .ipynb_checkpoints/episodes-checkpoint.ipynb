{
 "cells": [
  {
   "cell_type": "markdown",
   "metadata": {},
   "source": [
    "# Episode table"
   ]
  },
  {
   "cell_type": "code",
   "execution_count": null,
   "metadata": {},
   "outputs": [],
   "source": [
    "%reload_ext autoreload\n",
    "%autoreload 2"
   ]
  },
  {
   "cell_type": "code",
   "execution_count": null,
   "metadata": {},
   "outputs": [],
   "source": [
    "import pandas as pd\n",
    "import numpy as np\n",
    "import matplotlib.pyplot as plt\n",
    "%matplotlib inline\n",
    "import pprint\n",
    "import missingno as msno\n",
    "from helper_functions import open_table_list_columns, groupby_percent, groupby_plotsize, derive_episode_vars, km_byvar, derive_discharge_vars\n",
    "import os\n",
    "\n",
    "from lifelines import KaplanMeierFitter\n",
    "from lifelines.utils import datetimes_to_durations\n",
    "\n",
    "DATADIR = os.getenv('DATADIR')"
   ]
  },
  {
   "cell_type": "markdown",
   "metadata": {},
   "source": [
    "### Read in data and derive variables"
   ]
  },
  {
   "cell_type": "code",
   "execution_count": null,
   "metadata": {},
   "outputs": [],
   "source": [
    "episode = open_table_list_columns(DATADIR, 'Episode')"
   ]
  },
  {
   "cell_type": "markdown",
   "metadata": {},
   "source": [
    "Tier2 = structured treatmnet -regular 1to1 sessions\n",
    "Tier3 = unstructured -dropin to group work\n",
    "Tier4 = signposting"
   ]
  },
  {
   "cell_type": "code",
   "execution_count": null,
   "metadata": {},
   "outputs": [],
   "source": [
    "episode.head()"
   ]
  },
  {
   "cell_type": "code",
   "execution_count": null,
   "metadata": {},
   "outputs": [],
   "source": [
    "episode = derive_episode_vars(episode).copy()"
   ]
  },
  {
   "cell_type": "markdown",
   "metadata": {},
   "source": [
    "### Counts"
   ]
  },
  {
   "cell_type": "code",
   "execution_count": null,
   "metadata": {},
   "outputs": [],
   "source": [
    "episode.shape"
   ]
  },
  {
   "cell_type": "code",
   "execution_count": null,
   "metadata": {},
   "outputs": [],
   "source": [
    "episode.Serial.nunique()"
   ]
  },
  {
   "cell_type": "code",
   "execution_count": null,
   "metadata": {},
   "outputs": [],
   "source": [
    "sum(episode.EndDate.isna())"
   ]
  },
  {
   "cell_type": "code",
   "execution_count": null,
   "metadata": {},
   "outputs": [],
   "source": [
    "sum(episode.EndDate.isna())/episode.Serial.nunique()"
   ]
  },
  {
   "cell_type": "markdown",
   "metadata": {},
   "source": [
    "Less than 10% of episodes with missing end date (presumed to be in ongoing treatment?)"
   ]
  },
  {
   "cell_type": "markdown",
   "metadata": {},
   "source": [
    "### Tiers\n",
    "- Tier2 = structured treatmnet -regular 1to1 sessions\n",
    "- Tier3 = unstructured -dropin to group work\n",
    "- Tier4 = signposting"
   ]
  },
  {
   "cell_type": "code",
   "execution_count": null,
   "metadata": {},
   "outputs": [],
   "source": [
    "groupby_percent(episode, 'Tier2', 'Serial')"
   ]
  },
  {
   "cell_type": "code",
   "execution_count": null,
   "metadata": {},
   "outputs": [],
   "source": [
    "groupby_percent(episode, 'Tier3', 'Serial')"
   ]
  },
  {
   "cell_type": "code",
   "execution_count": null,
   "metadata": {},
   "outputs": [],
   "source": [
    "groupby_percent(episode, 'Tier4', 'Serial')"
   ]
  },
  {
   "cell_type": "code",
   "execution_count": null,
   "metadata": {},
   "outputs": [],
   "source": [
    "episode.Tier2.dtype"
   ]
  },
  {
   "cell_type": "markdown",
   "metadata": {},
   "source": [
    "What does it mean if all Tiers are 0?"
   ]
  },
  {
   "cell_type": "code",
   "execution_count": null,
   "metadata": {},
   "outputs": [],
   "source": [
    "print(\"{} ({}%) episodes are not classified into Tier system\".format(len(episode[(episode['Tier2'] == '0') & (episode['Tier3'] == '0') & (episode['Tier4'] == '0')]),\n",
    "                                                                    len(episode[(episode['Tier2'] == '0') & (episode['Tier3'] == '0') & (episode['Tier4'] == '0')])/episode.shape[0] *100))"
   ]
  },
  {
   "cell_type": "code",
   "execution_count": null,
   "metadata": {},
   "outputs": [],
   "source": [
    "print(\"{}% of episodes are both Tier2 and Tier 3\".format(len(episode[(episode['Tier2'] == '1') & (episode['Tier3'] == '1')])/episode.shape[0] *100))"
   ]
  },
  {
   "cell_type": "markdown",
   "metadata": {},
   "source": [
    "So the Tier thing doesn't make much sense to me now..."
   ]
  },
  {
   "cell_type": "markdown",
   "metadata": {},
   "source": [
    "### Episode duration"
   ]
  },
  {
   "cell_type": "code",
   "execution_count": null,
   "metadata": {},
   "outputs": [],
   "source": [
    "type(episode['episode_duration'][0])"
   ]
  },
  {
   "cell_type": "code",
   "execution_count": null,
   "metadata": {},
   "outputs": [],
   "source": [
    "print(\"{} episodes have a start date after end date. This represents {}% of episodes\".format(\n",
    "    len(episode[episode['episode_duration'] < pd.Timedelta(0)]),\n",
    "    len(episode[episode['episode_duration'] < pd.Timedelta(0)])/episode.shape[0] *100))"
   ]
  },
  {
   "cell_type": "markdown",
   "metadata": {},
   "source": [
    "537 episodes have a start date after the end date. These could be:  \n",
    "1) removed from data  \n",
    "2) reversed, assuming data entry\n",
    "3) Manually checked and errors determined\n",
    "4) checked with source for data entry errors\n",
    "\n",
    "\n",
    "For now remove these episodes as they only represent 0.19% of data"
   ]
  },
  {
   "cell_type": "code",
   "execution_count": null,
   "metadata": {},
   "outputs": [],
   "source": [
    "episode = episode[episode['episode_duration'] > pd.Timedelta(0)]"
   ]
  },
  {
   "cell_type": "code",
   "execution_count": null,
   "metadata": {},
   "outputs": [],
   "source": [
    "episode['episode_duration'].describe()"
   ]
  },
  {
   "cell_type": "code",
   "execution_count": null,
   "metadata": {},
   "outputs": [],
   "source": [
    "(episode['episode_duration'] / pd.Timedelta(days=1)).hist(bins =100)"
   ]
  },
  {
   "cell_type": "code",
   "execution_count": null,
   "metadata": {},
   "outputs": [],
   "source": [
    "len(episode[episode['episode_duration'] > pd.Timedelta(weeks=520)])"
   ]
  },
  {
   "cell_type": "code",
   "execution_count": null,
   "metadata": {},
   "outputs": [],
   "source": [
    "(episode['episode_duration'] / pd.Timedelta(days=1)).hist(bins =100)"
   ]
  },
  {
   "cell_type": "code",
   "execution_count": null,
   "metadata": {},
   "outputs": [],
   "source": [
    "last3years = episode[episode['start_date'] > '2015-01-01']"
   ]
  },
  {
   "cell_type": "code",
   "execution_count": null,
   "metadata": {},
   "outputs": [],
   "source": [
    "last3years.shape"
   ]
  },
  {
   "cell_type": "code",
   "execution_count": null,
   "metadata": {},
   "outputs": [],
   "source": [
    "len(last3years[(last3years['Tier2'] == '1') & (last3years['Tier3'] == '1')])/last3years.shape[0] *100"
   ]
  },
  {
   "cell_type": "markdown",
   "metadata": {},
   "source": [
    "### read in data with referral, discharge, client and primary substance info"
   ]
  },
  {
   "cell_type": "code",
   "execution_count": null,
   "metadata": {},
   "outputs": [],
   "source": [
    "rich_episode_level = open_table_list_columns(DATADIR, \"rich_episode_level\", compression='gzip')"
   ]
  },
  {
   "cell_type": "code",
   "execution_count": null,
   "metadata": {},
   "outputs": [],
   "source": [
    "rich_episode_level['Serial'] = rich_episode_level['Serial_x']"
   ]
  },
  {
   "cell_type": "code",
   "execution_count": null,
   "metadata": {},
   "outputs": [],
   "source": [
    "rich_episode_level = derive_episode_vars(rich_episode_level).copy()"
   ]
  },
  {
   "cell_type": "code",
   "execution_count": null,
   "metadata": {},
   "outputs": [],
   "source": [
    "rich_episode_level = derive_discharge_vars(rich_episode_level, DATADIR)"
   ]
  },
  {
   "cell_type": "markdown",
   "metadata": {},
   "source": [
    "### Survival analyses"
   ]
  },
  {
   "cell_type": "code",
   "execution_count": null,
   "metadata": {},
   "outputs": [],
   "source": [
    "rich_episode_level = rich_episode_level[rich_episode_level['episode_duration'] > pd.Timedelta(0)].copy()\n",
    "\n",
    "T, E = datetimes_to_durations(rich_episode_level.start_date, rich_episode_level.end_date)\n",
    "\n",
    "kmf = KaplanMeierFitter()\n",
    "kmf.fit(T, event_observed=E)\n",
    "\n",
    "print(\"The median days in an episode, which defines the day when on average 1/2 of episodes have ended={}\".format(kmf.median_))\n",
    "kmf.plot()"
   ]
  },
  {
   "cell_type": "code",
   "execution_count": null,
   "metadata": {},
   "outputs": [],
   "source": [
    "T, E = datetimes_to_durations(rich_episode_level.start_date, rich_episode_level.end_date)\n",
    "\n",
    "kmf = KaplanMeierFitter()\n",
    "kmf.fit(T, event_observed=E)\n",
    "\n",
    "km_byvar(rich_episode_level, \"IsYP\", T, E, xlim=(0, 150))"
   ]
  },
  {
   "cell_type": "code",
   "execution_count": null,
   "metadata": {},
   "outputs": [],
   "source": [
    "km_byvar(rich_episode_level, \"IsMainDrugInjected\", T, E, xlim=(0, 400))\n",
    "indicator = (rich_episode_level[\"IsMainDrugInjected\"] == \"1\")\n",
    "kmf.fit(T[indicator], event_observed=E[indicator])\n",
    "print(kmf.survival_function_.iloc[398:405])\n",
    "\n",
    "kmf.fit(T[~indicator], event_observed=E[~indicator])\n",
    "print(kmf.survival_function_.iloc[398:405])"
   ]
  },
  {
   "cell_type": "code",
   "execution_count": null,
   "metadata": {},
   "outputs": [],
   "source": [
    "km_byvar(rich_episode_level, \"IsHR\", T, E, xlim=(0, 400))"
   ]
  },
  {
   "cell_type": "code",
   "execution_count": null,
   "metadata": {},
   "outputs": [],
   "source": [
    "km_byvar(rich_episode_level, \"IsCO\", T, E, xlim=(0, 400))"
   ]
  },
  {
   "cell_type": "code",
   "execution_count": null,
   "metadata": {},
   "outputs": [],
   "source": [
    "reasons = rich_episode_level['collapsed_dreason'].unique()\n",
    "\n",
    "fig = plt.figure(figsize=(20,20))\n",
    "for i,reason in enumerate(reasons):\n",
    "   \n",
    "    if type(reason) == str:\n",
    "        ax = plt.subplot(4, 4, i+1)\n",
    "        ix = rich_episode_level['collapsed_dreason'] == reason\n",
    "        kmf.fit( T[ix], E[ix], label=reason)\n",
    "        print('Median number of days in service for {}: {}'.format(reason, kmf.median_))\n",
    "        kmf.plot(ax=ax, legend=False)\n",
    "        plt.title(reason)\n",
    "        plt.xlim(0, 1000)\n",
    "        plt.annotate(\"median (days):{}\".format(kmf.median_), xy=(400, 0.7))\n",
    "        if i==0:\n",
    "            plt.ylabel('Frac. in service after $n$ days')\n",
    "plt.tight_layout()"
   ]
  },
  {
   "cell_type": "code",
   "execution_count": null,
   "metadata": {},
   "outputs": [],
   "source": [
    "reasons = rich_episode_level['collapsed_dreason'].unique()\n",
    "\n",
    "median_duration_by_reason = pd.DataFrame()\n",
    "for i,reason in enumerate(reasons):\n",
    "    if type(reason) == str:\n",
    "        ix = rich_episode_level['collapsed_dreason'] == reason\n",
    "        number = rich_episode_level[ix].shape[0]\n",
    "        kmf.fit( T[ix], E[ix], label=reason)\n",
    "        d = {'reason': [reason], 'median_days': [kmf.median_], 'number_episodes': [number]}\n",
    "        median_duration_by_reason = median_duration_by_reason.append(pd.DataFrame(d))\n",
    "\n",
    "median_duration_by_reason.sort_values('median_days')"
   ]
  },
  {
   "cell_type": "code",
   "execution_count": null,
   "metadata": {},
   "outputs": [],
   "source": [
    "median_duration_by_reason.sort_values('median_days').plot(x='reason', y='median_days', kind='barh', figsize=(10, 5), color='#2B8CC4')"
   ]
  },
  {
   "cell_type": "code",
   "execution_count": null,
   "metadata": {},
   "outputs": [],
   "source": [
    "reasons = rich_episode_level['df_reason'].unique()\n",
    "\n",
    "median_duration_by_reason = pd.DataFrame()\n",
    "for i,reason in enumerate(reasons):\n",
    "    if type(reason) == str:\n",
    "        ix = rich_episode_level['df_reason'] == reason\n",
    "        number = rich_episode_level[ix].shape[0]\n",
    "        kmf.fit( T[ix], E[ix], label=reason)\n",
    "        d = {'reason': [reason], 'median_days': [kmf.median_], 'number_episodes': [number]}\n",
    "        median_duration_by_reason = median_duration_by_reason.append(pd.DataFrame(d))\n",
    "\n",
    "median_duration_by_reason.sort_values('median_days')"
   ]
  },
  {
   "cell_type": "code",
   "execution_count": null,
   "metadata": {},
   "outputs": [],
   "source": [
    "rich_episode_level['Status'].value_counts()\n"
   ]
  },
  {
   "cell_type": "code",
   "execution_count": null,
   "metadata": {},
   "outputs": [],
   "source": [
    "reasons = rich_episode_level[rich_episode_level['Status']=='Discharged']['df_reason'].unique()\n",
    "\n",
    "median_duration_by_reason = pd.DataFrame()\n",
    "for i,reason in enumerate(reasons):\n",
    "    if type(reason) == str:\n",
    "        ix = rich_episode_level['df_reason'] == reason\n",
    "        kmf.fit( T[ix], E[ix], label=reason)\n",
    "        d = {'reason': [reason], 'median_days': [kmf.median_]}\n",
    "        median_duration_by_reason = median_duration_by_reason.append(pd.DataFrame(d))\n",
    "\n",
    "median_duration_by_reason.sort_values('median_days')"
   ]
  },
  {
   "cell_type": "code",
   "execution_count": null,
   "metadata": {},
   "outputs": [],
   "source": [
    "services = rich_episode_level['Service'].unique()\n",
    "\n",
    "median_duration_by_reason = pd.DataFrame()\n",
    "for i,service in enumerate(services):\n",
    "    if type(service) == str:\n",
    "        ix = rich_episode_level['Service'] == service\n",
    "        kmf.fit( T[ix], E[ix], label=service)\n",
    "        d = {'service': [service], 'median_days': [kmf.median_]}\n",
    "        median_duration_by_reason = median_duration_by_reason.append(pd.DataFrame(d))\n",
    "\n",
    "median_duration_by_reason.sort_values('median_days')"
   ]
  },
  {
   "cell_type": "code",
   "execution_count": null,
   "metadata": {},
   "outputs": [],
   "source": [
    "services = rich_episode_level[rich_episode_level['collapsed_dreason']== 'treatment completed - drug free']['Service'].unique()\n",
    "drug_free = rich_episode_level[rich_episode_level['collapsed_dreason']== 'treatment completed - drug free'].copy()\n",
    "T_df, E_df = datetimes_to_durations(drug_free.start_date, drug_free.end_date)\n",
    "\n",
    "median_duration_by_reason = pd.DataFrame()\n",
    "for i,service in enumerate(services):\n",
    "    if type(service) == str:\n",
    "        ix = drug_free['Service'] == service\n",
    "        number = drug_free[ix].shape[0]\n",
    "        kmf.fit( T_df[ix], E_df[ix], label=service)\n",
    "        d = {'service': [service], 'median_days': [kmf.median_], 'number_episodes': [number]}\n",
    "        median_duration_by_reason = median_duration_by_reason.append(pd.DataFrame(d))\n",
    "\n",
    "median_duration_by_reason.sort_values('median_days', ascending=False)\n",
    "\n"
   ]
  },
  {
   "cell_type": "code",
   "execution_count": null,
   "metadata": {},
   "outputs": [],
   "source": [
    "median_duration_by_reason[median_duration_by_reason['median_days']>123].shape"
   ]
  },
  {
   "cell_type": "code",
   "execution_count": null,
   "metadata": {},
   "outputs": [],
   "source": [
    "median_duration_by_reason.nlargest(10, 'median_days')"
   ]
  },
  {
   "cell_type": "code",
   "execution_count": null,
   "metadata": {},
   "outputs": [],
   "source": [
    "drug_free['Service'].nunique()"
   ]
  },
  {
   "cell_type": "code",
   "execution_count": null,
   "metadata": {},
   "outputs": [],
   "source": [
    "services = rich_episode_level[rich_episode_level['collapsed_dreason']== 'Treatment completed – alcohol-free']['Service'].unique()\n",
    "alcohol_free = rich_episode_level[rich_episode_level['collapsed_dreason']== 'Treatment completed – alcohol-free'].copy()\n",
    "T_af, E_af = datetimes_to_durations(alcohol_free.start_date, alcohol_free.end_date)\n",
    "\n",
    "median_duration_by_reason = pd.DataFrame()\n",
    "for i,service in enumerate(services):\n",
    "    if type(service) == str:\n",
    "        ix = alcohol_free['Service'] == service\n",
    "        number = alcohol_free[ix].shape[0]\n",
    "        kmf.fit( T_af[ix], E_af[ix], label=service)\n",
    "        d = {'service': [service], 'median_days': [kmf.median_], 'number_episodes': [number]}\n",
    "        median_duration_by_reason = median_duration_by_reason.append(pd.DataFrame(d))\n",
    "\n",
    "median_duration_by_reason.sort_values('median_days', ascending=False)\n",
    "\n"
   ]
  },
  {
   "cell_type": "code",
   "execution_count": null,
   "metadata": {},
   "outputs": [],
   "source": [
    "median_duration_by_reason[median_duration_by_reason['median_days']>134].shape"
   ]
  },
  {
   "cell_type": "code",
   "execution_count": null,
   "metadata": {},
   "outputs": [],
   "source": [
    "median_duration_by_reason.nlargest(20, 'median_days')"
   ]
  },
  {
   "cell_type": "code",
   "execution_count": null,
   "metadata": {},
   "outputs": [],
   "source": [
    "rich_episode_level_codes = pd.read_csv(os.path.join(DATADIR, 'Referral_codes.csv'), dtype=object, delimiter='|', encoding = \"ISO-8859-1\")\n",
    "rich_episode_level_codes = dict(zip(rich_episode_level_codes.Code, rich_episode_level_codes.Text))\n",
    "rich_episode_level['referral_source_label'] = rich_episode_level['ReferralSource'].map(rich_episode_level_codes)\n",
    "\n",
    "rich_episode_level['collapsed_source'] = 'other'\n",
    "rich_episode_level.loc[rich_episode_level['referral_source_label'] == 'Self', 'collapsed_source'] = 'self'\n",
    "rich_episode_level.loc[rich_episode_level['referral_source_label'] == 'GP', 'collapsed_source'] = 'GP'\n",
    "rich_episode_level.loc[rich_episode_level['referral_source_label'] == 'Arrest rich_episode_level', 'collapsed_source'] = 'arrest rich_episode_level'\n",
    "rich_episode_level.loc[rich_episode_level['referral_source_label'] == 'Drug Service Statutory', 'collapsed_source'] = 'statutory drug service'\n",
    "rich_episode_level.loc[rich_episode_level['referral_source_label'] == 'CARAT / Prison', 'collapsed_source'] = 'CARAT/prison'\n",
    "rich_episode_level.loc[rich_episode_level['referral_source_label'] == 'Drug service non- statutory', 'collapsed_source'] = 'non-statutory drug service'\n",
    "rich_episode_level.loc[rich_episode_level['referral_source_label'] == 'Hospital', 'collapsed_source'] = 'hospital'\n",
    "rich_episode_level.loc[rich_episode_level['referral_source_label'] == 'Probation', 'collapsed_source'] = 'probation'\n",
    "rich_episode_level.loc[rich_episode_level['referral_source_label'] == 'Community Alcohol Team', 'collapsed_source'] = 'community alcohol team'"
   ]
  },
  {
   "cell_type": "code",
   "execution_count": null,
   "metadata": {},
   "outputs": [],
   "source": [
    "reasons = rich_episode_level['collapsed_source'].unique()\n",
    "T, E = datetimes_to_durations(rich_episode_level.start_date, rich_episode_level.end_date)\n",
    "fig = plt.figure(figsize=(20,20))\n",
    "for i,reason in enumerate(reasons):\n",
    "   \n",
    "    if type(reason) == str:\n",
    "        ax = plt.subplot(4, 4, i+1)\n",
    "        ix = rich_episode_level['collapsed_source'] == reason\n",
    "        kmf.fit( T[ix], E[ix], label=reason)\n",
    "        print('Median number of days in service for {}: {}'.format(reason, kmf.median_))\n",
    "        kmf.plot(ax=ax, legend=False)\n",
    "        plt.title(reason)\n",
    "        plt.xlim(0, 200)\n",
    "        plt.annotate(\"median (days):{}\".format(kmf.median_), xy=(100, 0.7))\n",
    "        if i==0:\n",
    "            plt.ylabel('Frac. in service after $n$ days')\n",
    "plt.tight_layout()"
   ]
  },
  {
   "cell_type": "code",
   "execution_count": null,
   "metadata": {},
   "outputs": [],
   "source": [
    "alcohol_free['Service'].nunique()"
   ]
  }
 ],
 "metadata": {
  "kernelspec": {
   "display_name": "Python 3",
   "language": "python",
   "name": "python3"
  },
  "language_info": {
   "codemirror_mode": {
    "name": "ipython",
    "version": 3
   },
   "file_extension": ".py",
   "mimetype": "text/x-python",
   "name": "python",
   "nbconvert_exporter": "python",
   "pygments_lexer": "ipython3",
   "version": "3.6.2"
  }
 },
 "nbformat": 4,
 "nbformat_minor": 1
}
