{
 "cells": [
  {
   "cell_type": "markdown",
   "metadata": {},
   "source": [
    "# Discharge table (outcomes)"
   ]
  },
  {
   "cell_type": "code",
   "execution_count": null,
   "metadata": {},
   "outputs": [],
   "source": [
    "%reload_ext autoreload\n",
    "%autoreload 2"
   ]
  },
  {
   "cell_type": "code",
   "execution_count": null,
   "metadata": {},
   "outputs": [],
   "source": [
    "import pandas as pd\n",
    "import matplotlib.pyplot as plt\n",
    "%matplotlib inline\n",
    "import pprint\n",
    "import missingno as msno\n",
    "import os\n",
    "import seaborn as sns\n",
    "\n",
    "from helper_functions import open_table_list_columns, groupby_percent, groupby_plotsize, derive_discharge_vars, create_serial_epi\n",
    "\n",
    "DATADIR = os.getenv('DATADIR')"
   ]
  },
  {
   "cell_type": "markdown",
   "metadata": {},
   "source": [
    "### read in data, derive vars and count things"
   ]
  },
  {
   "cell_type": "code",
   "execution_count": null,
   "metadata": {},
   "outputs": [],
   "source": [
    "discharge = open_table_list_columns(DATADIR, 'Discharge')"
   ]
  },
  {
   "cell_type": "code",
   "execution_count": null,
   "metadata": {},
   "outputs": [],
   "source": [
    "discharge = create_serial_epi(discharge).copy()\n",
    "discharge = derive_discharge_vars(discharge, DATADIR).copy()"
   ]
  },
  {
   "cell_type": "code",
   "execution_count": null,
   "metadata": {},
   "outputs": [],
   "source": [
    "print(\"There are {} rows in discharge and {} unique clients (Serial).\\nTherefore is {} that rows uniquely identify clients\".format(discharge.shape[0], discharge.Serial.nunique(), (discharge.shape[0]==discharge.Serial.nunique())))\n",
    "print(\"On average there are {} discharges per client\".format(discharge.shape[0]/discharge.Serial.nunique()))"
   ]
  },
  {
   "cell_type": "markdown",
   "metadata": {},
   "source": [
    "### Missing"
   ]
  },
  {
   "cell_type": "code",
   "execution_count": null,
   "metadata": {},
   "outputs": [],
   "source": [
    "msno.matrix(discharge[['DischargeID',\n",
    " 'Serial',\n",
    " 'Episode',\n",
    " 'EventID',\n",
    " 'DischargeDate',\n",
    " 'DateStarted',\n",
    " 'LetterToGP',\n",
    " 'LetterToClient',\n",
    " 'ModalityStatusCode',\n",
    " 'ReasonForClosure',\n",
    " 'Agency',\n",
    " 'YPSelfHarmExit',\n",
    " 'YPUnsafeDrugExit',\n",
    " 'YPOffendingExit',\n",
    " 'YPCAFExit',\n",
    " 'YPSaferSexExit',\n",
    " 'YPSexualHealthExit',\n",
    " 'YPRegisteredGPExit',\n",
    " 'YPGoalsExit',\n",
    " 'DischargeDestination',\n",
    " 'YPLeadProfessionalExit',\n",
    " 'YPMHServicesExit',\n",
    " 'YPYOTExit',\n",
    " 'YPSexualExploitationExit']].sample(250))"
   ]
  },
  {
   "cell_type": "code",
   "execution_count": null,
   "metadata": {},
   "outputs": [],
   "source": [
    "msno.matrix(discharge[['YPContactLearningDifficultyTreatExit',\n",
    " 'YPSexuallyActiveTreatExit',\n",
    " 'EngagedInUnsafeSexAtTrtmntEnd',\n",
    " 'YPFreqOfUseOfDrug1AtTrtmntExit',\n",
    " 'ChildProtectionIssues',\n",
    " 'PlannedDateOfRecordRemoval',\n",
    " 'NDTMSDischargeDate',\n",
    " 'NDTMSReasonForClosure',\n",
    " 'NDTMSDischargeEventID',\n",
    " 'PrisonExitReason',\n",
    " 'PrisonExitDestination',\n",
    " 'ReferredTo',\n",
    " 'PreReleaseReviewDate',\n",
    " 'YPOfferedSupportFromOtherServices',\n",
    " 'DateOfDeath',\n",
    " 'AUDITScore',\n",
    " 'ImmunisationsAdministered',\n",
    " 'CounsellingDelivered',\n",
    " 'ClientCommittedSuicide',\n",
    " 'MentalHealthProblem',\n",
    " 'CareStatusAtTreatmentExit',\n",
    " 'DomesticAbuseAtTreatmentExit',\n",
    " 'EducationEmploymentTrainingStatus',\n",
    " 'AccommodationNeedAtTreatmentExit',\n",
    " 'PregnantAtTreatmentExit',\n",
    " 'ParentalStatusAtTreatmentExit',\n",
    " 'ChildProtectionPlanAtTreatmentExit',\n",
    " 'FeelAffectedBySubstanceMisuseAtTreatmentExit',\n",
    " 'SexualRiskTakingAtTMExit',\n",
    " 'GangInvolvementAtTMExit',\n",
    " 'FemaleGenitalMutilationAtTMExit',\n",
    " 'AsylumRefugeesAtTMExit',\n",
    " 'AtRiskOfExclusion',\n",
    " 'Sentenced']].sample(3000))"
   ]
  },
  {
   "cell_type": "markdown",
   "metadata": {},
   "source": [
    "### Outcomes"
   ]
  },
  {
   "cell_type": "code",
   "execution_count": null,
   "metadata": {},
   "outputs": [],
   "source": [
    "groupby_plotsize(discharge, 'discharge_reason', figsize=(10, 40)) "
   ]
  },
  {
   "cell_type": "code",
   "execution_count": null,
   "metadata": {},
   "outputs": [],
   "source": [
    "print(\"There are {} episodes with more than 1 discharge code\".format(sum(discharge.groupby(['Serial', 'Episode', 'discharge_reason' ]).size().groupby(level=['Serial', 'Episode']).sum()>1)))"
   ]
  },
  {
   "cell_type": "code",
   "execution_count": null,
   "metadata": {},
   "outputs": [],
   "source": [
    "groupby_percent(discharge, 'collapsed_dreason', 'Serial')"
   ]
  },
  {
   "cell_type": "code",
   "execution_count": null,
   "metadata": {},
   "outputs": [],
   "source": [
    "discharge_gr = discharge.groupby('collapsed_dreason').size().sort_values(ascending=True)\n",
    "discharge_reason = pd.DataFrame(discharge_gr)\n",
    "discharge_reason.columns = ['frequency']\n",
    "discharge_reason['percent'] = discharge_gr / discharge.shape[0]*100\n",
    "print(discharge_reason.shape)\n",
    "discharge_reason"
   ]
  },
  {
   "cell_type": "code",
   "execution_count": null,
   "metadata": {},
   "outputs": [],
   "source": [
    "13.251578 + 9.862891 + 5.865646"
   ]
  },
  {
   "cell_type": "code",
   "execution_count": null,
   "metadata": {},
   "outputs": [],
   "source": [
    "discharge_reason.reset_index().plot(x='collapsed_dreason', y='percent', kind='barh', figsize=(5, 5), color='#2B8CC4', legend=False)"
   ]
  },
  {
   "cell_type": "code",
   "execution_count": null,
   "metadata": {},
   "outputs": [],
   "source": [
    "discharge_gr = discharge.groupby('discharge_reason').size().sort_values(ascending=True)\n",
    "discharge_reason = pd.DataFrame(discharge_gr)\n",
    "discharge_reason.columns = ['frequency']\n",
    "discharge_reason['percent'] = discharge_gr / discharge.shape[0]*100\n",
    "discharge_reason"
   ]
  },
  {
   "cell_type": "code",
   "execution_count": null,
   "metadata": {},
   "outputs": [],
   "source": [
    "discharge_reason[discharge_reason['frequency']==1].shape"
   ]
  },
  {
   "cell_type": "code",
   "execution_count": null,
   "metadata": {},
   "outputs": [],
   "source": [
    "discharge_reason[discharge_reason['frequency']==2].shape"
   ]
  },
  {
   "cell_type": "code",
   "execution_count": null,
   "metadata": {},
   "outputs": [],
   "source": [
    "discharge_reason[discharge_reason['frequency']<10].shape"
   ]
  },
  {
   "cell_type": "code",
   "execution_count": null,
   "metadata": {},
   "outputs": [],
   "source": [
    "discharge_reason.shape"
   ]
  },
  {
   "cell_type": "code",
   "execution_count": null,
   "metadata": {},
   "outputs": [],
   "source": []
  },
  {
   "cell_type": "code",
   "execution_count": null,
   "metadata": {},
   "outputs": [],
   "source": [
    "discharge_reason.reset_index().plot(x='discharge_reason', y='percent', kind='barh', figsize=(10, 20), color='#2B8CC4')"
   ]
  },
  {
   "cell_type": "code",
   "execution_count": null,
   "metadata": {},
   "outputs": [],
   "source": [
    "groupby_plotsize(discharge,'outcome')"
   ]
  },
  {
   "cell_type": "code",
   "execution_count": null,
   "metadata": {},
   "outputs": [],
   "source": [
    "groupby_percent(discharge,'outcome', 'Episode')"
   ]
  },
  {
   "cell_type": "code",
   "execution_count": null,
   "metadata": {},
   "outputs": [],
   "source": [
    "groupby_percent(discharge, 'DischargeDestination', 'serial_epi')"
   ]
  },
  {
   "cell_type": "markdown",
   "metadata": {},
   "source": [
    "### More counting"
   ]
  },
  {
   "cell_type": "code",
   "execution_count": null,
   "metadata": {},
   "outputs": [],
   "source": [
    "discharge['YPContactLearningDifficultyTreatExit'].value_counts(dropna=False)"
   ]
  },
  {
   "cell_type": "code",
   "execution_count": null,
   "metadata": {},
   "outputs": [],
   "source": [
    "discharge['DomesticAbuseAtTreatmentExit'].value_counts(dropna=False)"
   ]
  },
  {
   "cell_type": "code",
   "execution_count": null,
   "metadata": {},
   "outputs": [],
   "source": [
    "discharge['EducationEmploymentTrainingStatus'].value_counts(dropna=False)"
   ]
  },
  {
   "cell_type": "code",
   "execution_count": null,
   "metadata": {},
   "outputs": [],
   "source": [
    "discharge['ChildProtectionIssues'].value_counts(dropna=False)"
   ]
  },
  {
   "cell_type": "code",
   "execution_count": null,
   "metadata": {},
   "outputs": [],
   "source": [
    "discharge['YPContactLearningDifficultyTreatExit'].shape"
   ]
  },
  {
   "cell_type": "markdown",
   "metadata": {},
   "source": [
    "### Read in data created in explore_joins.ipynb\n",
    "It's basically client + referral + episode + discharge + primary substance"
   ]
  },
  {
   "cell_type": "code",
   "execution_count": null,
   "metadata": {},
   "outputs": [],
   "source": [
    "rich_episode_level = open_table_list_columns(DATADIR, \"rich_episode_level\", compression='gzip')"
   ]
  },
  {
   "cell_type": "code",
   "execution_count": null,
   "metadata": {},
   "outputs": [],
   "source": [
    "rich_episode_level['Serial'] = rich_episode_level['Serial_x']\n",
    "rich_episode_level['Episode'] = rich_episode_level['Episode_x']\n",
    "episode_level =  create_serial_epi(rich_episode_level).copy()\n",
    "episode_level = derive_discharge_vars(episode_level, DATADIR).copy()"
   ]
  },
  {
   "cell_type": "markdown",
   "metadata": {},
   "source": [
    "### substance type and outcome"
   ]
  },
  {
   "cell_type": "code",
   "execution_count": null,
   "metadata": {},
   "outputs": [],
   "source": [
    "pd.crosstab(episode_level.SubstanceType, episode_level.collapsed_dreason, margins=True)"
   ]
  },
  {
   "cell_type": "markdown",
   "metadata": {},
   "source": [
    "### presenting problem and outcome"
   ]
  },
  {
   "cell_type": "code",
   "execution_count": null,
   "metadata": {},
   "outputs": [],
   "source": [
    "pd.crosstab(episode_level.PresentingProblem, episode_level.collapsed_dreason, margins=True)"
   ]
  },
  {
   "cell_type": "code",
   "execution_count": null,
   "metadata": {},
   "outputs": [],
   "source": [
    "x = pd.crosstab(episode_level.collapsed_dreason,episode_level.PresentingProblem, normalize='all')\n",
    "sns.heatmap(x, annot=False)"
   ]
  },
  {
   "cell_type": "code",
   "execution_count": null,
   "metadata": {},
   "outputs": [],
   "source": [
    "episode_level.groupby(['PresentingProblem' , 'collapsed_dreason']).size().sort_values(ascending=True).plot(kind = 'barh', figsize=(5, 5))"
   ]
  },
  {
   "cell_type": "markdown",
   "metadata": {},
   "source": [
    "### Young people"
   ]
  },
  {
   "cell_type": "code",
   "execution_count": null,
   "metadata": {},
   "outputs": [],
   "source": [
    "yp = episode_level[episode_level['IsYP']=='1'].copy()\n",
    "\n",
    "discharge_gr = yp.groupby('collapsed_dreason').size().sort_values(ascending=True)\n",
    "discharge_reason = pd.DataFrame(discharge_gr)\n",
    "discharge_reason.columns = ['frequency']\n",
    "discharge_reason['percent'] = discharge_gr / yp.shape[0]*100\n",
    "print(discharge_reason)\n",
    "discharge_reason\n",
    "\n",
    "\n",
    "discharge_reason.reset_index().plot(x='collapsed_dreason', y='percent', kind='barh', figsize=(5, 5), color='#2B8CC4', legend=False)"
   ]
  },
  {
   "cell_type": "code",
   "execution_count": null,
   "metadata": {},
   "outputs": [],
   "source": [
    "yp[['PresentingProblem']].groupby('PresentingProblem').size().sort_values(ascending=True)"
   ]
  },
  {
   "cell_type": "code",
   "execution_count": null,
   "metadata": {},
   "outputs": [],
   "source": [
    "x = pd.crosstab(yp.collapsed_dreason, yp.PresentingProblem, normalize='all')\n",
    "sns.heatmap(x, annot=False)"
   ]
  },
  {
   "cell_type": "markdown",
   "metadata": {},
   "source": [
    "### Not young people"
   ]
  },
  {
   "cell_type": "code",
   "execution_count": null,
   "metadata": {},
   "outputs": [],
   "source": [
    "yp = episode_level[episode_level['IsYP']=='0'].copy()\n",
    "\n",
    "discharge_gr = yp.groupby('collapsed_dreason').size().sort_values(ascending=True)\n",
    "discharge_reason = pd.DataFrame(discharge_gr)\n",
    "discharge_reason.columns = ['frequency']\n",
    "discharge_reason['percent'] = discharge_gr / yp.shape[0]*100\n",
    "print(discharge_reason)\n",
    "discharge_reason\n",
    "\n",
    "\n",
    "discharge_reason.reset_index().plot(x='collapsed_dreason', y='percent', kind='barh', figsize=(5, 5), color='#2B8CC4', legend=False)"
   ]
  },
  {
   "cell_type": "code",
   "execution_count": null,
   "metadata": {},
   "outputs": [],
   "source": [
    "x = pd.crosstab(yp.collapsed_dreason, yp.PresentingProblem, normalize='all')\n",
    "sns.heatmap(x, annot=False)"
   ]
  },
  {
   "cell_type": "markdown",
   "metadata": {},
   "source": [
    "### outcomes over time\n",
    "#### overall"
   ]
  },
  {
   "cell_type": "code",
   "execution_count": null,
   "metadata": {},
   "outputs": [],
   "source": [
    "episode_level['discharge_date'] = pd.to_datetime(episode_level.DischargeDate)\n",
    "episode_level.index = episode_level['discharge_date']\n",
    "grouped = episode_level[['discharge_date','collapsed_dreason']].groupby(['collapsed_dreason', pd.Grouper(freq='Y')]).count()\n",
    "ax = grouped.unstack(level='collapsed_dreason')['discharge_date'].plot()\n",
    "ax.set_xlim(pd.Timestamp('2007-01-01'), pd.Timestamp('2019-01-01'))\n",
    "ax.legend(loc='center left', bbox_to_anchor=(1, 0.5))\n",
    "ax"
   ]
  },
  {
   "cell_type": "markdown",
   "metadata": {},
   "source": [
    "#### not young people"
   ]
  },
  {
   "cell_type": "code",
   "execution_count": null,
   "metadata": {},
   "outputs": [],
   "source": [
    "yp = episode_level[episode_level['IsYP']=='0'].copy()\n",
    "yp['discharge_date'] = pd.to_datetime(yp.DischargeDate)\n",
    "yp.index = yp['discharge_date']\n",
    "grouped = yp[['discharge_date','collapsed_dreason']].groupby(['collapsed_dreason', pd.Grouper(freq='Y')]).count()\n",
    "ax = grouped.unstack(level='collapsed_dreason')['discharge_date'].plot()\n",
    "ax.set_xlim(pd.Timestamp('2007-01-01'), pd.Timestamp('2019-01-01'))\n",
    "ax.legend(loc='center left', bbox_to_anchor=(1, 0.5))\n",
    "ax"
   ]
  },
  {
   "cell_type": "markdown",
   "metadata": {},
   "source": [
    "#### young people"
   ]
  },
  {
   "cell_type": "code",
   "execution_count": null,
   "metadata": {},
   "outputs": [],
   "source": [
    "yp = episode_level[episode_level['IsYP']=='1'].copy()\n",
    "yp['discharge_date'] = pd.to_datetime(yp.DischargeDate)\n",
    "yp.index = yp['discharge_date']\n",
    "grouped = yp[['discharge_date','collapsed_dreason']].groupby(['collapsed_dreason', pd.Grouper(freq='Y')]).count()\n",
    "ax = grouped.unstack(level='collapsed_dreason')['discharge_date'].plot()\n",
    "ax.set_xlim(pd.Timestamp('2007-01-01'), pd.Timestamp('2019-01-01'))\n",
    "ax.legend(loc='center left', bbox_to_anchor=(1, 0.5))\n",
    "ax"
   ]
  }
 ],
 "metadata": {
  "kernelspec": {
   "display_name": "Python 3",
   "language": "python",
   "name": "python3"
  },
  "language_info": {
   "codemirror_mode": {
    "name": "ipython",
    "version": 3
   },
   "file_extension": ".py",
   "mimetype": "text/x-python",
   "name": "python",
   "nbconvert_exporter": "python",
   "pygments_lexer": "ipython3",
   "version": "3.6.2"
  }
 },
 "nbformat": 4,
 "nbformat_minor": 1
}
