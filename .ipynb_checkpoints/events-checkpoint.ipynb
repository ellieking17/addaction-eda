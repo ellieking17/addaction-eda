{
 "cells": [
  {
   "cell_type": "markdown",
   "metadata": {},
   "source": [
    "# Events table"
   ]
  },
  {
   "cell_type": "code",
   "execution_count": null,
   "metadata": {},
   "outputs": [],
   "source": [
    "import pandas as pd\n",
    "import numpy as np\n",
    "import matplotlib.pyplot as plt\n",
    "%matplotlib inline\n",
    "import pprint\n",
    "import missingno as msno\n",
    "import seaborn as sns\n",
    "from helper_functions import open_table_list_columns, groupby_percent, groupby_plotsize\n",
    "import os\n",
    "import glob\n",
    "DATADIR = os.getenv('DATADIR')"
   ]
  },
  {
   "cell_type": "markdown",
   "metadata": {},
   "source": [
    "### Read in data and derive variables"
   ]
  },
  {
   "cell_type": "code",
   "execution_count": null,
   "metadata": {},
   "outputs": [],
   "source": [
    "#read in all events files and append to single dataframe\n",
    "all_files = glob.glob(os.path.join(DATADIR, \"Events_*.csv\"))   \n",
    "df_from_each_file = (pd.read_csv(f, dtype=object, encoding = \"iso-8859-1\") for f in all_files)\n",
    "events   = pd.concat(df_from_each_file, ignore_index=True)\n",
    "\n"
   ]
  },
  {
   "cell_type": "code",
   "execution_count": null,
   "metadata": {},
   "outputs": [],
   "source": [
    "events.shape"
   ]
  },
  {
   "cell_type": "code",
   "execution_count": null,
   "metadata": {},
   "outputs": [],
   "source": [
    "events.columns"
   ]
  },
  {
   "cell_type": "code",
   "execution_count": null,
   "metadata": {},
   "outputs": [],
   "source": [
    "events['event_timestamp'] = pd.to_datetime(events['EventDate'], errors='coerce')"
   ]
  },
  {
   "cell_type": "code",
   "execution_count": null,
   "metadata": {},
   "outputs": [],
   "source": [
    "events['event_date'] = events['event_timestamp'].dt.date"
   ]
  },
  {
   "cell_type": "code",
   "execution_count": null,
   "metadata": {},
   "outputs": [],
   "source": [
    "events['serial_date'] = events.Serial+'_'+(events.event_date).map(str)\n",
    "events.event_date.nunique()\n",
    "events.serial_date.nunique()"
   ]
  },
  {
   "cell_type": "code",
   "execution_count": null,
   "metadata": {},
   "outputs": [],
   "source": [
    "events['serial_epi'] = events.Serial+'_'+events.Episode\n",
    "events.serial_epi.nunique()"
   ]
  },
  {
   "cell_type": "code",
   "execution_count": null,
   "metadata": {},
   "outputs": [],
   "source": [
    "events['event_year'] = events['event_timestamp'].dt.year"
   ]
  },
  {
   "cell_type": "markdown",
   "metadata": {},
   "source": [
    "### some counts"
   ]
  },
  {
   "cell_type": "code",
   "execution_count": null,
   "metadata": {},
   "outputs": [],
   "source": [
    "events.EventID.nunique()"
   ]
  },
  {
   "cell_type": "code",
   "execution_count": null,
   "metadata": {},
   "outputs": [],
   "source": [
    "events.Serial.nunique()"
   ]
  },
  {
   "cell_type": "code",
   "execution_count": null,
   "metadata": {},
   "outputs": [],
   "source": [
    "events.event_date.nunique()"
   ]
  },
  {
   "cell_type": "code",
   "execution_count": null,
   "metadata": {},
   "outputs": [],
   "source": [
    "print('On average the are {} eventIDs per Serial'.format(\n",
    "    events.EventID.nunique()/events.Serial.nunique()))"
   ]
  },
  {
   "cell_type": "code",
   "execution_count": null,
   "metadata": {},
   "outputs": [],
   "source": [
    "print('On average the are {} event days per Serial'.format(\n",
    "    events.serial_date.nunique()/events.Serial.nunique()))"
   ]
  },
  {
   "cell_type": "markdown",
   "metadata": {},
   "source": [
    "Apparently it's possible to have a different event ID for the same appointment so this could be over counting\n",
    "\n",
    "Beware of DateCreated, this won't be filled for system generated scripts"
   ]
  },
  {
   "cell_type": "code",
   "execution_count": null,
   "metadata": {},
   "outputs": [],
   "source": [
    "events.groupby('serial_epi').size().describe()"
   ]
  },
  {
   "cell_type": "markdown",
   "metadata": {},
   "source": [
    "### Event dates\n",
    "These avoid the over counting that happens when a single event (like a visit) has multiple evientIDs, for correspondence, appointment etc. But will under count if genuinely were 2 separate events on the same day..."
   ]
  },
  {
   "cell_type": "code",
   "execution_count": null,
   "metadata": {},
   "outputs": [],
   "source": [
    "dates = events.drop_duplicates(['serial_epi', 'event_date']).copy()"
   ]
  },
  {
   "cell_type": "code",
   "execution_count": null,
   "metadata": {},
   "outputs": [],
   "source": [
    "dates.shape"
   ]
  },
  {
   "cell_type": "code",
   "execution_count": null,
   "metadata": {},
   "outputs": [],
   "source": [
    "dates.serial_epi.nunique()"
   ]
  },
  {
   "cell_type": "code",
   "execution_count": null,
   "metadata": {},
   "outputs": [],
   "source": [
    "dates_per_episode = dates.groupby('serial_epi').size()\n",
    "dates_per_episode[(dates_per_episode<1000)].plot.hist(bins=1000)"
   ]
  },
  {
   "cell_type": "code",
   "execution_count": null,
   "metadata": {},
   "outputs": [],
   "source": [
    "dates_per_episode.describe()"
   ]
  },
  {
   "cell_type": "code",
   "execution_count": null,
   "metadata": {},
   "outputs": [],
   "source": [
    "print('Signifies that {}% of episodes using {}% of resources'.format(100*dates_per_episode[dates_per_episode>dates_per_episode.median()].shape[0]/events.serial_epi.nunique(),\n",
    "      100*dates_per_episode[dates_per_episode>dates_per_episode.median()].sum()/dates_per_episode.sum()))"
   ]
  },
  {
   "cell_type": "code",
   "execution_count": null,
   "metadata": {},
   "outputs": [],
   "source": [
    "print('Signifies that {}% of episodes using {}% of resources'.format(100*dates_per_episode[dates_per_episode>dates_per_episode.quantile(0.75)].shape[0]/events.serial_epi.nunique(),\n",
    "      100*dates_per_episode[dates_per_episode>dates_per_episode.quantile(0.75)].sum()/dates_per_episode.sum()))"
   ]
  },
  {
   "cell_type": "markdown",
   "metadata": {},
   "source": [
    "#### what's happening with these v. resource heavy episodes?"
   ]
  },
  {
   "cell_type": "code",
   "execution_count": null,
   "metadata": {},
   "outputs": [],
   "source": [
    "dates_per_episode.nlargest(3,)"
   ]
  },
  {
   "cell_type": "code",
   "execution_count": null,
   "metadata": {},
   "outputs": [],
   "source": [
    "dates[dates['serial_epi']=='703220_1']"
   ]
  },
  {
   "cell_type": "markdown",
   "metadata": {},
   "source": [
    "Seem to be appointments. Check these again once merged with EventType"
   ]
  },
  {
   "cell_type": "code",
   "execution_count": null,
   "metadata": {},
   "outputs": [],
   "source": [
    "dates_per_episode[dates_per_episode>500].shape"
   ]
  },
  {
   "cell_type": "code",
   "execution_count": null,
   "metadata": {},
   "outputs": [],
   "source": [
    "n=42\n",
    "print('The top {} episodes (most eventdates in episode), represent {}% of all eventdates in the data.'.format(n, 100*dates_per_episode.sort_values(ascending=False).head(n=n).sum()/dates.serial_epi.nunique()))\n",
    "\n",
    "print('Signifies that {}% of episodes using {}% of resources'.format(100*n/events.serial_epi.nunique(),\n",
    "      100*dates_per_episode.sort_values(ascending=False).head(n=n).sum()/events.serial_epi.nunique()))\n",
    "      \n",
    "dates_per_episode.sort_values(ascending=False).head(n=n)"
   ]
  },
  {
   "cell_type": "markdown",
   "metadata": {},
   "source": [
    "### Date per year"
   ]
  },
  {
   "cell_type": "code",
   "execution_count": null,
   "metadata": {},
   "outputs": [],
   "source": [
    "dates_per_episode_year = dates.groupby(['serial_epi', 'event_year']).size()"
   ]
  },
  {
   "cell_type": "code",
   "execution_count": null,
   "metadata": {},
   "outputs": [],
   "source": [
    "dates_per_episode_year.describe()"
   ]
  },
  {
   "cell_type": "code",
   "execution_count": null,
   "metadata": {},
   "outputs": [],
   "source": [
    "dates_per_episode_year.nlargest(25)"
   ]
  },
  {
   "cell_type": "code",
   "execution_count": null,
   "metadata": {},
   "outputs": [],
   "source": [
    "dates_per_episode_year.plot.hist()"
   ]
  },
  {
   "cell_type": "markdown",
   "metadata": {},
   "source": [
    "### EventID per episode"
   ]
  },
  {
   "cell_type": "code",
   "execution_count": null,
   "metadata": {},
   "outputs": [],
   "source": [
    "events_per_episode  = events.groupby('serial_epi').size()\n",
    "events_per_episode[(events_per_episode<20000) & (events_per_episode>100)].hist(bins=200)"
   ]
  },
  {
   "cell_type": "code",
   "execution_count": null,
   "metadata": {},
   "outputs": [],
   "source": [
    "events_per_episode.describe()"
   ]
  },
  {
   "cell_type": "code",
   "execution_count": null,
   "metadata": {},
   "outputs": [],
   "source": [
    "events_per_episode[(events_per_episode<1000)].plot.hist(bins=200)"
   ]
  },
  {
   "cell_type": "code",
   "execution_count": null,
   "metadata": {},
   "outputs": [],
   "source": [
    "events_per_episode.sort_values(ascending=False).head(n=20).sum()/events.serial_epi.nunique()"
   ]
  },
  {
   "cell_type": "code",
   "execution_count": null,
   "metadata": {},
   "outputs": [],
   "source": [
    "n=100\n",
    "print('The top {} episodes (most eventIDs in episode), represent {}% of all eventIDs in the data.'.format(n, \n",
    "                                                                                                          100*events_per_episode.sort_values(ascending=False\n",
    "                                                                                                                                            ).head(n=n\n",
    "                                                                                                                                                  ).sum()/events.serial_epi.nunique()\n",
    "                                                                                                         )\n",
    "     )\n",
    "\n",
    "print('Signifies that {}% of episodes using {}% of resources'.format(100*n/events.serial_epi.nunique(),\n",
    "      100*events_per_episode.sort_values(ascending=False).head(n=n).sum()/events.serial_epi.nunique()\n",
    "                                                                    )\n",
    "     )"
   ]
  },
  {
   "cell_type": "markdown",
   "metadata": {},
   "source": [
    "### Duration"
   ]
  },
  {
   "cell_type": "code",
   "execution_count": null,
   "metadata": {},
   "outputs": [],
   "source": [
    "events['duration'] = pd.to_numeric(events.Duration)"
   ]
  },
  {
   "cell_type": "code",
   "execution_count": null,
   "metadata": {},
   "outputs": [],
   "source": [
    "events.loc[events['duration'] < 0, 'duration'] = np.NaN"
   ]
  },
  {
   "cell_type": "code",
   "execution_count": null,
   "metadata": {},
   "outputs": [],
   "source": [
    "events['duration'].describe()"
   ]
  },
  {
   "cell_type": "markdown",
   "metadata": {},
   "source": [
    "### Appointment Type"
   ]
  },
  {
   "cell_type": "code",
   "execution_count": null,
   "metadata": {},
   "outputs": [],
   "source": [
    "events[events['duration']>1000].groupby('AppointmentType').size()"
   ]
  },
  {
   "cell_type": "markdown",
   "metadata": {},
   "source": [
    "Each row is a unique event and all events have only one eventdate"
   ]
  },
  {
   "cell_type": "code",
   "execution_count": null,
   "metadata": {},
   "outputs": [],
   "source": [
    "groupby_plotsize(events, 'AppointmentType')"
   ]
  },
  {
   "cell_type": "code",
   "execution_count": null,
   "metadata": {},
   "outputs": [],
   "source": [
    "events['appointment_type'] = events['AppointmentType'].copy()\n",
    "events.loc[events['AppointmentType'] == 'Client Record Management', 'appointment_type'] = 'Client record management'\n",
    "events.loc[events['AppointmentType'] == 'Client Record Management ', 'appointment_type'] = 'Client record management'\n",
    "events.loc[events['AppointmentType'] == 'Individual Client Session', 'appointment_type'] = 'Individual client session'\n",
    "events.loc[events['AppointmentType'] == 'Individual Client session', 'appointment_type'] = 'Individual client session'\n",
    "events.loc[events['AppointmentType'] == 'Family Session', 'appointment_type'] = 'Family session'"
   ]
  },
  {
   "cell_type": "code",
   "execution_count": null,
   "metadata": {},
   "outputs": [],
   "source": [
    "events.columns"
   ]
  },
  {
   "cell_type": "code",
   "execution_count": null,
   "metadata": {},
   "outputs": [],
   "source": [
    "groupby_plotsize(events, 'appointment_type')"
   ]
  },
  {
   "cell_type": "code",
   "execution_count": null,
   "metadata": {},
   "outputs": [],
   "source": [
    "groupby_percent(events, 'appointment_type', 'EventID')"
   ]
  },
  {
   "cell_type": "code",
   "execution_count": null,
   "metadata": {},
   "outputs": [],
   "source": [
    "groupby_percent(events, 'Attended', 'EventID')"
   ]
  },
  {
   "cell_type": "code",
   "execution_count": null,
   "metadata": {},
   "outputs": [],
   "source": [
    "attended_appointment_type1 = events[['Attended', 'appointment_type', 'EventID']].groupby(['Attended', 'appointment_type'], as_index=False).count()"
   ]
  },
  {
   "cell_type": "code",
   "execution_count": null,
   "metadata": {},
   "outputs": [],
   "source": [
    "attended_appointment_type1 "
   ]
  },
  {
   "cell_type": "code",
   "execution_count": null,
   "metadata": {},
   "outputs": [],
   "source": [
    "attended_appointment_type2 = events[['appointment_type', 'EventID']].groupby(['appointment_type'], as_index=False).count()"
   ]
  },
  {
   "cell_type": "code",
   "execution_count": null,
   "metadata": {},
   "outputs": [],
   "source": [
    "attended_appointment_type2"
   ]
  },
  {
   "cell_type": "code",
   "execution_count": null,
   "metadata": {},
   "outputs": [],
   "source": [
    "attended_appointment_type1 = attended_appointment_type1[attended_appointment_type1['Attended']=='1'].copy()\n",
    "attended_appointment_type = pd.merge(attended_appointment_type1, \n",
    "         attended_appointment_type2, \n",
    "         on='appointment_type', \n",
    "         how='outer'\n",
    "        )"
   ]
  },
  {
   "cell_type": "code",
   "execution_count": null,
   "metadata": {},
   "outputs": [],
   "source": [
    "# Initialize the matplotlib figure\n",
    "f, ax = plt.subplots(figsize=(10, 5))\n",
    "\n",
    "# Plot the total crashes\n",
    "sns.set_color_codes(\"pastel\")\n",
    "sns.barplot(x=\"EventID_y\", y=\"appointment_type\", data=attended_appointment_type,\n",
    "            label=\"Total\", color=\"b\")\n",
    "\n",
    "# Plot the crashes where alcohol was involved\n",
    "sns.set_color_codes(\"muted\")\n",
    "sns.barplot(x=\"EventID_x\", y=\"appointment_type\", data=attended_appointment_type,\n",
    "            label=\"Attended\", color=\"b\")\n",
    "\n",
    "# Add a legend and informative axis label\n",
    "ax.legend(ncol=2, loc=\"lower right\", frameon=True)\n",
    "ax.set(ylabel=\"\",\n",
    "       xlabel=\"Attended appointments by type\")\n",
    "sns.despine(left=True, bottom=True)"
   ]
  },
  {
   "cell_type": "markdown",
   "metadata": {},
   "source": [
    "### Program Name"
   ]
  },
  {
   "cell_type": "code",
   "execution_count": null,
   "metadata": {},
   "outputs": [],
   "source": [
    "groupby_plotsize(events, 'ProgramName', figsize=(10, 40))"
   ]
  },
  {
   "cell_type": "markdown",
   "metadata": {},
   "source": [
    "### Worker & SeenBy"
   ]
  },
  {
   "cell_type": "code",
   "execution_count": null,
   "metadata": {},
   "outputs": [],
   "source": [
    "events.groupby('Worker').size().plot.hist(bins=200)"
   ]
  },
  {
   "cell_type": "code",
   "execution_count": null,
   "metadata": {},
   "outputs": [],
   "source": [
    "events[events['event_timestamp']>pd.Timestamp('2017-01-01')].groupby('Worker').size().plot.hist(bins=200)"
   ]
  },
  {
   "cell_type": "code",
   "execution_count": null,
   "metadata": {},
   "outputs": [],
   "source": [
    "events[events['event_timestamp']>pd.Timestamp('2015-01-01')].groupby('Worker').size().sort_values(ascending=False).plot.hist(bins=200)"
   ]
  },
  {
   "cell_type": "code",
   "execution_count": null,
   "metadata": {},
   "outputs": [],
   "source": [
    "events[events['event_timestamp']>pd.Timestamp('2015-01-01')].groupby('SeenBy').size().sort_values(ascending=False)"
   ]
  },
  {
   "cell_type": "code",
   "execution_count": null,
   "metadata": {},
   "outputs": [],
   "source": [
    "events['Worker'].nunique()"
   ]
  },
  {
   "cell_type": "code",
   "execution_count": null,
   "metadata": {},
   "outputs": [],
   "source": [
    "events['SeenBy'].nunique()"
   ]
  },
  {
   "cell_type": "code",
   "execution_count": null,
   "metadata": {},
   "outputs": [],
   "source": [
    "events['AddedBy'].nunique()"
   ]
  },
  {
   "cell_type": "markdown",
   "metadata": {},
   "source": [
    "### Event Types"
   ]
  },
  {
   "cell_type": "code",
   "execution_count": null,
   "metadata": {},
   "outputs": [],
   "source": [
    "all_files_type = glob.glob(os.path.join(DATADIR, \"EventsTypes_*.csv\")) \n",
    "\n",
    "df_from_each_file_type = (pd.read_csv(f, dtype=object, encoding = \"iso-8859-1\") for f in all_files_type)\n",
    "events_types   = pd.concat(df_from_each_file_type, ignore_index=True)\n",
    "\n"
   ]
  },
  {
   "cell_type": "code",
   "execution_count": null,
   "metadata": {},
   "outputs": [],
   "source": [
    "events_types.shape"
   ]
  },
  {
   "cell_type": "code",
   "execution_count": null,
   "metadata": {
    "scrolled": true
   },
   "outputs": [],
   "source": [
    "events_types.head(20)"
   ]
  },
  {
   "cell_type": "code",
   "execution_count": null,
   "metadata": {},
   "outputs": [],
   "source": [
    "df  = events_types.groupby('EventType').size().sort_values(ascending=True)"
   ]
  },
  {
   "cell_type": "code",
   "execution_count": null,
   "metadata": {
    "scrolled": true
   },
   "outputs": [],
   "source": [
    "df.nlargest(100, ).plot(kind = 'barh', figsize=(10, 30), color='#2B8CC4')"
   ]
  },
  {
   "cell_type": "code",
   "execution_count": null,
   "metadata": {},
   "outputs": [],
   "source": [
    "# df.sort_values().head(n=300).plot(kind = 'barh', figsize=(10, 30), color='#2B8CC4')"
   ]
  },
  {
   "cell_type": "code",
   "execution_count": null,
   "metadata": {},
   "outputs": [],
   "source": [
    "events_types.EventID.nunique()"
   ]
  },
  {
   "cell_type": "code",
   "execution_count": null,
   "metadata": {},
   "outputs": [],
   "source": [
    "events_types.ID.nunique()"
   ]
  },
  {
   "cell_type": "code",
   "execution_count": null,
   "metadata": {},
   "outputs": [],
   "source": [
    "events_types.EventType.nunique()"
   ]
  },
  {
   "cell_type": "code",
   "execution_count": null,
   "metadata": {},
   "outputs": [],
   "source": [
    "events_types.EventName.nunique()"
   ]
  },
  {
   "cell_type": "code",
   "execution_count": null,
   "metadata": {},
   "outputs": [],
   "source": [
    "events_types.groupby('EventID')['ID'].nunique().describe()"
   ]
  },
  {
   "cell_type": "code",
   "execution_count": null,
   "metadata": {},
   "outputs": [],
   "source": [
    "events_types.ID.nunique()/events_types.EventID.nunique()"
   ]
  },
  {
   "cell_type": "markdown",
   "metadata": {},
   "source": [
    "### Events + Event Types"
   ]
  },
  {
   "cell_type": "code",
   "execution_count": null,
   "metadata": {},
   "outputs": [],
   "source": [
    "events_join = pd.merge(events,\n",
    "                         events_types,\n",
    "                         on=['EventID'], \n",
    "                         how='outer', \n",
    "                         indicator=True, \n",
    "                         validate=\"1:m\"\n",
    "                        )"
   ]
  },
  {
   "cell_type": "code",
   "execution_count": null,
   "metadata": {},
   "outputs": [],
   "source": [
    "events_join['_merge'].value_counts()"
   ]
  },
  {
   "cell_type": "code",
   "execution_count": null,
   "metadata": {},
   "outputs": [],
   "source": [
    "events_join.columns"
   ]
  },
  {
   "cell_type": "markdown",
   "metadata": {},
   "source": [
    "Remember this very long episode?"
   ]
  },
  {
   "cell_type": "code",
   "execution_count": null,
   "metadata": {},
   "outputs": [],
   "source": [
    "events_join[events_join['serial_epi']=='703220_1']"
   ]
  },
  {
   "cell_type": "code",
   "execution_count": null,
   "metadata": {},
   "outputs": [],
   "source": [
    "events_join.groupby('EventType').size().sort_values(ascending=False).head(n=30).sort_values().plot(kind = 'barh', figsize=(10, 10), color='#2B8CC4')"
   ]
  },
  {
   "cell_type": "code",
   "execution_count": null,
   "metadata": {},
   "outputs": [],
   "source": [
    "events_join[events_join['appointment_type']=='Client record management'].groupby('EventType').size().sort_values(ascending=False).head(n=30).sort_values().plot(kind = 'barh', figsize=(10, 10), color='#006435')"
   ]
  },
  {
   "cell_type": "code",
   "execution_count": null,
   "metadata": {},
   "outputs": [],
   "source": [
    "events_join[events_join['appointment_type']=='Individual client session'].groupby('EventType').size().sort_values(ascending=False).head(n=30).sort_values().plot(kind = 'barh', figsize=(10, 10), color='#006435')"
   ]
  }
 ],
 "metadata": {
  "kernelspec": {
   "display_name": "Python 3",
   "language": "python",
   "name": "python3"
  },
  "language_info": {
   "codemirror_mode": {
    "name": "ipython",
    "version": 3
   },
   "file_extension": ".py",
   "mimetype": "text/x-python",
   "name": "python",
   "nbconvert_exporter": "python",
   "pygments_lexer": "ipython3",
   "version": "3.6.0"
  }
 },
 "nbformat": 4,
 "nbformat_minor": 2
}
