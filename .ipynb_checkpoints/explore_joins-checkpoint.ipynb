{
 "cells": [
  {
   "cell_type": "code",
   "execution_count": null,
   "metadata": {},
   "outputs": [],
   "source": [
    "import pandas as pd\n",
    "import matplotlib.pyplot as plt\n",
    "%matplotlib inline\n",
    "import pprint\n",
    "import missingno as msno\n",
    "import os\n",
    "from helper_functions import open_table_list_columns"
   ]
  },
  {
   "cell_type": "code",
   "execution_count": null,
   "metadata": {},
   "outputs": [],
   "source": [
    "DATADIR = os.getenv('DATADIR')"
   ]
  },
  {
   "cell_type": "markdown",
   "metadata": {},
   "source": [
    "### client table"
   ]
  },
  {
   "cell_type": "code",
   "execution_count": null,
   "metadata": {},
   "outputs": [],
   "source": [
    "client = open_table_list_columns(DATADIR, 'Client')"
   ]
  },
  {
   "cell_type": "code",
   "execution_count": null,
   "metadata": {},
   "outputs": [],
   "source": [
    "print(\"There are {} rows in client and {} unique clients (Serial).\\nTherefore is {} that rows uniquely identify clients\".format(client.shape[0], client.Serial.nunique(), (client.shape[0]==client.Serial.nunique())))"
   ]
  },
  {
   "cell_type": "markdown",
   "metadata": {},
   "source": [
    "## Discharge"
   ]
  },
  {
   "cell_type": "code",
   "execution_count": null,
   "metadata": {},
   "outputs": [],
   "source": [
    "discharge = open_table_list_columns(DATADIR,'Discharge')"
   ]
  },
  {
   "cell_type": "code",
   "execution_count": null,
   "metadata": {},
   "outputs": [],
   "source": [
    "print(\"There are {} rows in discharge and {} unique clients (Serial).\\nTherefore is {} that rows uniquely identify clients\".format(discharge.shape[0], discharge.Serial.nunique(), (discharge.shape[0]==discharge.Serial.nunique())))\n",
    "print(\"On average there are {} discharges per client\".format(discharge.shape[0]/discharge.Serial.nunique()))"
   ]
  },
  {
   "cell_type": "markdown",
   "metadata": {},
   "source": [
    "### episodes"
   ]
  },
  {
   "cell_type": "code",
   "execution_count": null,
   "metadata": {},
   "outputs": [],
   "source": [
    "episode = open_table_list_columns(DATADIR,'Episode')"
   ]
  },
  {
   "cell_type": "code",
   "execution_count": null,
   "metadata": {},
   "outputs": [],
   "source": [
    "episode.shape"
   ]
  },
  {
   "cell_type": "code",
   "execution_count": null,
   "metadata": {},
   "outputs": [],
   "source": [
    "episode.Serial.nunique()"
   ]
  },
  {
   "cell_type": "markdown",
   "metadata": {},
   "source": [
    "### referral"
   ]
  },
  {
   "cell_type": "code",
   "execution_count": null,
   "metadata": {},
   "outputs": [],
   "source": [
    "referral = open_table_list_columns(DATADIR,'Referral')"
   ]
  },
  {
   "cell_type": "markdown",
   "metadata": {},
   "source": [
    "### Construct episode-level dataset\n",
    "referral --> episode --> discharge"
   ]
  },
  {
   "cell_type": "markdown",
   "metadata": {},
   "source": [
    "### Join referral to episode\n",
    "referral --> episode \n",
    "\n",
    "All episodes are expected to have a referral  \n",
    "Are all referrals expected to have an episode?"
   ]
  },
  {
   "cell_type": "code",
   "execution_count": null,
   "metadata": {},
   "outputs": [],
   "source": [
    "ref_epi = pd.merge(referral, \n",
    "                         episode, \n",
    "                         on=['Serial',   'Episode'], \n",
    "                         how='outer', \n",
    "                         indicator=True, \n",
    "                         validate=\"1:1\"\n",
    "                        )"
   ]
  },
  {
   "cell_type": "code",
   "execution_count": null,
   "metadata": {},
   "outputs": [],
   "source": [
    "ref_epi.groupby('_merge').size()"
   ]
  },
  {
   "cell_type": "markdown",
   "metadata": {},
   "source": [
    "Hooray, all episodes have a referral and all referrals have an episode!"
   ]
  },
  {
   "cell_type": "code",
   "execution_count": null,
   "metadata": {},
   "outputs": [],
   "source": [
    "# drop _merge\n",
    "\n",
    "ref_epi = ref_epi.drop('_merge', axis=1).copy()"
   ]
  },
  {
   "cell_type": "markdown",
   "metadata": {},
   "source": [
    "### Join referral_episode to discharge\n",
    "referral --> episode --> discharge\n",
    "\n",
    "All discharges are expected to have an episode  \n",
    "Not all episodes are expected to have a discharge"
   ]
  },
  {
   "cell_type": "code",
   "execution_count": null,
   "metadata": {},
   "outputs": [],
   "source": [
    "ref_epi_disch = pd.merge(ref_epi, \n",
    "                         discharge, \n",
    "                         on=['Serial',   'Episode'], \n",
    "                         how='outer', \n",
    "                         indicator=True, \n",
    "                         validate=\"1:1\"\n",
    "                        )"
   ]
  },
  {
   "cell_type": "code",
   "execution_count": null,
   "metadata": {},
   "outputs": [],
   "source": [
    "ref_epi_disch.groupby('_merge').size()"
   ]
  },
  {
   "cell_type": "markdown",
   "metadata": {},
   "source": [
    "There's 1 discharge without an episode..."
   ]
  },
  {
   "cell_type": "code",
   "execution_count": null,
   "metadata": {},
   "outputs": [],
   "source": [
    "ref_epi_disch[ref_epi_disch['_merge']=='right_only']"
   ]
  },
  {
   "cell_type": "code",
   "execution_count": null,
   "metadata": {},
   "outputs": [],
   "source": [
    "ref_epi_disch['merge_epi_disch'] = ref_epi_disch['_merge']\n",
    "ref_epi_disch = ref_epi_disch.drop('_merge', axis=1).copy()"
   ]
  },
  {
   "cell_type": "markdown",
   "metadata": {},
   "source": [
    "### construct episode-level data joined to client"
   ]
  },
  {
   "cell_type": "markdown",
   "metadata": {},
   "source": [
    "### Join referral_episode_discharge to client\n",
    "ref_epi_disch --> client\n",
    "\n",
    "All clients expected to have a referral or episode or discharge  \n",
    "All episodes/referrals/discharges are expected to have a client"
   ]
  },
  {
   "cell_type": "code",
   "execution_count": null,
   "metadata": {},
   "outputs": [],
   "source": [
    "client_ref_epi_disch = pd.merge(client, \n",
    "                         ref_epi_disch, \n",
    "                         on=['Serial'], \n",
    "                         how='outer', \n",
    "                         indicator=True, \n",
    "                         validate=\"1:m\"\n",
    "                        )"
   ]
  },
  {
   "cell_type": "code",
   "execution_count": null,
   "metadata": {},
   "outputs": [],
   "source": [
    "client_ref_epi_disch.groupby('_merge').size()"
   ]
  },
  {
   "cell_type": "code",
   "execution_count": null,
   "metadata": {},
   "outputs": [],
   "source": [
    "client_ref_epi_disch[client_ref_epi_disch['_merge']=='right_only'].head()"
   ]
  },
  {
   "cell_type": "code",
   "execution_count": null,
   "metadata": {},
   "outputs": [],
   "source": [
    "client_ref_epi_disch = client_ref_epi_disch.drop('_merge', axis=1).copy()"
   ]
  },
  {
   "cell_type": "code",
   "execution_count": null,
   "metadata": {},
   "outputs": [],
   "source": [
    "client_ref_epi_disch['serial_epi'] = client_ref_epi_disch[\"Serial\"].map(str) + \"_\" + client_ref_epi_disch[\"Episode\"].map(str)"
   ]
  },
  {
   "cell_type": "markdown",
   "metadata": {},
   "source": [
    "### Substances\n",
    "client_ref_epi_disch --> substances\n",
    "\n",
    "All episodes expected to have a substance profile from initial assessment  \n",
    "All substance profile expected to be linked to an episode"
   ]
  },
  {
   "cell_type": "code",
   "execution_count": null,
   "metadata": {},
   "outputs": [],
   "source": [
    "substances = open_table_list_columns(DATADIR,'ClientSubstanceType')"
   ]
  },
  {
   "cell_type": "code",
   "execution_count": null,
   "metadata": {},
   "outputs": [],
   "source": [
    "substances.head()"
   ]
  },
  {
   "cell_type": "code",
   "execution_count": null,
   "metadata": {},
   "outputs": [],
   "source": [
    "substances['serial_epi'] = substances[\"Serial\"].map(str) + \"_\" + substances[\"Episode\"].map(str)"
   ]
  },
  {
   "cell_type": "code",
   "execution_count": null,
   "metadata": {},
   "outputs": [],
   "source": [
    "print(\"There are {} rows in substances and {} unique client episodes (serial_epi).\\n \\\n",
    "Therefore is {} that rows uniquely identify client episodes\".format(\n",
    "    substances.shape[0], substances.serial_epi.nunique(), \n",
    "    (substances.shape[0]==substances.serial_epi.nunique())))\n",
    "print(\"On average there are {} substances per client episode\".format(\n",
    "    substances.shape[0]/substances.serial_epi.nunique()))"
   ]
  },
  {
   "cell_type": "markdown",
   "metadata": {},
   "source": [
    "At this stage, don't want to go to a substancetype-level dataframe, so don't merge"
   ]
  },
  {
   "cell_type": "code",
   "execution_count": null,
   "metadata": {},
   "outputs": [],
   "source": [
    "primary_sub = substances[substances['SubstanceStatus']=='1'].copy()"
   ]
  },
  {
   "cell_type": "code",
   "execution_count": null,
   "metadata": {},
   "outputs": [],
   "source": [
    "print(\"There are {} rows in primary_sub and {} unique client episodes (serial_epi).\\n \\\n",
    "Therefore is {} that rows uniquely identify client episodes\".format(\n",
    "    primary_sub.shape[0], primary_sub.serial_epi.nunique(), \n",
    "    (primary_sub.shape[0]==primary_sub.serial_epi.nunique())))\n",
    "print(\"On average there are {} substances per client episode\".format(\n",
    "    primary_sub.shape[0]/primary_sub.serial_epi.nunique()))"
   ]
  },
  {
   "cell_type": "markdown",
   "metadata": {},
   "source": [
    "There should only be one primary substance type per client episode and the 132 rows where there are >1 are likely to be data entry errors (substancestatus==1, 2, 3 etc is likely to generate errors.). \n",
    "\n",
    "Small number of errors so drop duplicates..."
   ]
  },
  {
   "cell_type": "code",
   "execution_count": null,
   "metadata": {},
   "outputs": [],
   "source": [
    "primary_sub.drop_duplicates('serial_epi', inplace=True)"
   ]
  },
  {
   "cell_type": "code",
   "execution_count": null,
   "metadata": {},
   "outputs": [],
   "source": [
    "print(\"There are {} rows in primary_sub and {} unique client episodes (serial_epi).\\n \\\n",
    "Therefore is {} that rows uniquely identify client episodes\".format(\n",
    "    primary_sub.shape[0], primary_sub.serial_epi.nunique(), \n",
    "    (primary_sub.shape[0]==primary_sub.serial_epi.nunique())))\n",
    "print(\"On average there are {} substances per client episode\".format(\n",
    "    primary_sub.shape[0]/primary_sub.serial_epi.nunique()))"
   ]
  },
  {
   "cell_type": "code",
   "execution_count": null,
   "metadata": {},
   "outputs": [],
   "source": [
    "client_ref_epi_disch_substance = pd.merge(client_ref_epi_disch, \n",
    "                                          primary_sub, on=['serial_epi'], \n",
    "                                          how='outer', \n",
    "                                          indicator=True, \n",
    "                                          validate=\"1:1\"\n",
    "                                         )"
   ]
  },
  {
   "cell_type": "code",
   "execution_count": null,
   "metadata": {},
   "outputs": [],
   "source": [
    "client_ref_epi_disch_substance.to_csv(os.path.join(DATADIR, 'rich_episode_level.csv.gz'), \n",
    "                                      compression='gzip')"
   ]
  },
  {
   "cell_type": "markdown",
   "metadata": {},
   "source": [
    "### TOP\n",
    "client_ref_epi_disch --> top\n",
    "\n",
    "All episodes expected to have at least one top assessment  \n",
    "All top assessments expected to linked to an episode"
   ]
  },
  {
   "cell_type": "code",
   "execution_count": null,
   "metadata": {},
   "outputs": [],
   "source": [
    "top = open_table_list_columns(DATADIR,'TOP')"
   ]
  },
  {
   "cell_type": "code",
   "execution_count": null,
   "metadata": {},
   "outputs": [],
   "source": [
    "top.shape"
   ]
  },
  {
   "cell_type": "code",
   "execution_count": null,
   "metadata": {},
   "outputs": [],
   "source": [
    "top['serial_epi'] = top[\"Serial\"].map(str) + \"_\" + top[\"Episode\"].map(str)"
   ]
  },
  {
   "cell_type": "code",
   "execution_count": null,
   "metadata": {},
   "outputs": [],
   "source": [
    "print(\"There are {} rows in top and {} unique client episodes (serial_epi).\\n \\\n",
    "Therefore is {} that rows uniquely identify client episodes\".format(\n",
    "    top.shape[0], top.serial_epi.nunique(), \n",
    "    (top.shape[0]==top.serial_epi.nunique())))\n",
    "print(\"On average there are {} tops per client episode\".format(\n",
    "    top.shape[0]/top.serial_epi.nunique()))"
   ]
  },
  {
   "cell_type": "markdown",
   "metadata": {},
   "source": [
    "At this stage, don't want to go to a TOP-level dataframe, so don't merge"
   ]
  },
  {
   "cell_type": "code",
   "execution_count": null,
   "metadata": {},
   "outputs": [],
   "source": [
    "epi_top = pd.merge(client_ref_epi_disch, \n",
    "                         top, \n",
    "                         on=['Serial', 'Episode'], \n",
    "                         how='outer', \n",
    "                         indicator=True, \n",
    "                         validate=\"1:m\"\n",
    "                        )"
   ]
  },
  {
   "cell_type": "code",
   "execution_count": null,
   "metadata": {},
   "outputs": [],
   "source": [
    "epi_top.groupby('_merge').size()"
   ]
  },
  {
   "cell_type": "markdown",
   "metadata": {},
   "source": [
    "A lot of episodes without a TOP assessment.  \n",
    "Check again once population constircted to last 2 years"
   ]
  },
  {
   "cell_type": "code",
   "execution_count": null,
   "metadata": {},
   "outputs": [],
   "source": [
    "epi_top['merge_epi_top'] = epi_top['_merge']\n",
    "epi_top = epi_top.drop('_merge', axis=1).copy()"
   ]
  },
  {
   "cell_type": "code",
   "execution_count": null,
   "metadata": {},
   "outputs": [],
   "source": []
  },
  {
   "cell_type": "code",
   "execution_count": null,
   "metadata": {},
   "outputs": [],
   "source": []
  },
  {
   "cell_type": "code",
   "execution_count": null,
   "metadata": {},
   "outputs": [],
   "source": []
  },
  {
   "cell_type": "code",
   "execution_count": null,
   "metadata": {},
   "outputs": [],
   "source": []
  },
  {
   "cell_type": "code",
   "execution_count": null,
   "metadata": {},
   "outputs": [],
   "source": [
    "pd.crosstab(client_epi_disch['disch_not_epi'], client_epi_disch['Status'])"
   ]
  }
 ],
 "metadata": {
  "kernelspec": {
   "display_name": "Python 3",
   "language": "python",
   "name": "python3"
  },
  "language_info": {
   "codemirror_mode": {
    "name": "ipython",
    "version": 3
   },
   "file_extension": ".py",
   "mimetype": "text/x-python",
   "name": "python",
   "nbconvert_exporter": "python",
   "pygments_lexer": "ipython3",
   "version": "3.6.0"
  }
 },
 "nbformat": 4,
 "nbformat_minor": 2
}
