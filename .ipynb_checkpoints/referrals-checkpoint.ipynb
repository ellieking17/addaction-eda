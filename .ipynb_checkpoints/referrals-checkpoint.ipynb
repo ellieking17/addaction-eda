{
 "cells": [
  {
   "cell_type": "markdown",
   "metadata": {},
   "source": [
    "# Referral table"
   ]
  },
  {
   "cell_type": "code",
   "execution_count": null,
   "metadata": {},
   "outputs": [],
   "source": [
    "import pandas as pd\n",
    "import matplotlib.pyplot as plt\n",
    "%matplotlib inline\n",
    "import pprint\n",
    "import missingno as msno\n",
    "import seaborn as sns\n",
    "from helper_functions import open_table_list_columns, groupby_percent, groupby_plotsize, create_serial_epi\n",
    "\n",
    "import os\n",
    "DATADIR = os.getenv('DATADIR')"
   ]
  },
  {
   "cell_type": "markdown",
   "metadata": {},
   "source": [
    "## Load data and derive variables"
   ]
  },
  {
   "cell_type": "code",
   "execution_count": null,
   "metadata": {},
   "outputs": [],
   "source": [
    "referral = open_table_list_columns(DATADIR, 'Referral')"
   ]
  },
  {
   "cell_type": "code",
   "execution_count": null,
   "metadata": {},
   "outputs": [],
   "source": [
    "referral['referral_date'] = pd.to_datetime(referral.ReferralDate)"
   ]
  },
  {
   "cell_type": "code",
   "execution_count": null,
   "metadata": {},
   "outputs": [],
   "source": [
    "referral.index = referral['referral_date']"
   ]
  },
  {
   "cell_type": "code",
   "execution_count": null,
   "metadata": {},
   "outputs": [],
   "source": [
    "referral = create_serial_epi(referral)"
   ]
  },
  {
   "cell_type": "code",
   "execution_count": null,
   "metadata": {},
   "outputs": [],
   "source": [
    "referral_codes = pd.read_csv(os.path.join(DATADIR, 'Referral_codes.csv'), dtype=object, delimiter='|', encoding = \"ISO-8859-1\")\n",
    "referral_codes = dict(zip(referral_codes.Code, referral_codes.Text))\n",
    "referral['referral_source_label'] = referral['ReferralSource'].map(referral_codes)\n",
    "len(referral_codes)"
   ]
  },
  {
   "cell_type": "markdown",
   "metadata": {},
   "source": [
    "### Count some things"
   ]
  },
  {
   "cell_type": "code",
   "execution_count": null,
   "metadata": {},
   "outputs": [],
   "source": [
    "print(\"there are {} rows and {} columns in the table\".format(referral.shape[0], referral.shape[1]))"
   ]
  },
  {
   "cell_type": "code",
   "execution_count": null,
   "metadata": {},
   "outputs": [],
   "source": [
    "print(\"there are {} unique clients in referral data\".format(referral.Serial.nunique()))"
   ]
  },
  {
   "cell_type": "code",
   "execution_count": null,
   "metadata": {},
   "outputs": [],
   "source": [
    "print(\"there are {} unique episodes in referral data\".format(referral.serial_epi.nunique()))"
   ]
  },
  {
   "cell_type": "markdown",
   "metadata": {},
   "source": [
    "So a referral for every episode. Nice"
   ]
  },
  {
   "cell_type": "code",
   "execution_count": null,
   "metadata": {},
   "outputs": [],
   "source": [
    "print(\"there are {} unique organisations in referral data\".format(referral.Organisation.nunique()))"
   ]
  },
  {
   "cell_type": "code",
   "execution_count": null,
   "metadata": {},
   "outputs": [],
   "source": [
    "print(\"there are {} missing referral modalities in referral data\".format(sum(referral['ReferredModalities'].isna())))"
   ]
  },
  {
   "cell_type": "markdown",
   "metadata": {},
   "source": [
    "### How many referrals/episodes over time"
   ]
  },
  {
   "cell_type": "code",
   "execution_count": null,
   "metadata": {},
   "outputs": [],
   "source": [
    "referral.groupby(referral['referral_date'].dt.date).size().plot()"
   ]
  },
  {
   "cell_type": "code",
   "execution_count": null,
   "metadata": {},
   "outputs": [],
   "source": [
    "ax = referral.groupby(referral['referral_date'].dt.date).size().plot()\n",
    "ax.set_xlim(pd.Timestamp('2007-01-01'), pd.Timestamp('2019-01-01'))\n",
    "ax"
   ]
  },
  {
   "cell_type": "code",
   "execution_count": null,
   "metadata": {},
   "outputs": [],
   "source": [
    "referral_freq = referral.groupby(referral['referral_date'].dt.date).size() \n",
    "referral_freq[referral_freq > 200]"
   ]
  },
  {
   "cell_type": "markdown",
   "metadata": {},
   "source": [
    "### Presenting problem"
   ]
  },
  {
   "cell_type": "code",
   "execution_count": null,
   "metadata": {},
   "outputs": [],
   "source": [
    "groupby_plotsize(referral,'PresentingProblem')"
   ]
  },
  {
   "cell_type": "code",
   "execution_count": null,
   "metadata": {},
   "outputs": [],
   "source": [
    "ax = grouped.unstack(level='PresentingProblem')['Episode'].plot()\n",
    "ax.set_xlim(pd.Timestamp('2007-01-01'), pd.Timestamp('2019-01-01'))\n",
    "ax.legend(loc='center left', bbox_to_anchor=(1, 0.5))\n",
    "ax"
   ]
  },
  {
   "cell_type": "markdown",
   "metadata": {},
   "source": [
    "### Treatment referred options"
   ]
  },
  {
   "cell_type": "code",
   "execution_count": null,
   "metadata": {},
   "outputs": [],
   "source": [
    "groupby_plotsize(referral, 'TreatmentReferredOption1', figsize=(10, 30))"
   ]
  },
  {
   "cell_type": "code",
   "execution_count": null,
   "metadata": {},
   "outputs": [],
   "source": [
    "groupby_plotsize(referral, 'TreatmentReferredOption2', figsize=(10, 30))"
   ]
  },
  {
   "cell_type": "code",
   "execution_count": null,
   "metadata": {},
   "outputs": [],
   "source": [
    "groupby_plotsize(referral, 'TreatmentReferredOption3', figsize=(10, 30))"
   ]
  },
  {
   "cell_type": "markdown",
   "metadata": {},
   "source": [
    "### I don't know what this variable means..."
   ]
  },
  {
   "cell_type": "code",
   "execution_count": null,
   "metadata": {},
   "outputs": [],
   "source": [
    "referral.groupby('IsPrimary').size().sort_values(ascending=True).plot(kind = 'barh', figsize=(10, 2), color='#2B8CC4')"
   ]
  },
  {
   "cell_type": "markdown",
   "metadata": {},
   "source": [
    "### referral source"
   ]
  },
  {
   "cell_type": "code",
   "execution_count": null,
   "metadata": {},
   "outputs": [],
   "source": [
    "groupby_plotsize(referral, 'referral_source_label', figsize=(10, 30))"
   ]
  },
  {
   "cell_type": "code",
   "execution_count": null,
   "metadata": {},
   "outputs": [],
   "source": [
    "groupby_percent(referral, 'referral_source_label','Episode')"
   ]
  },
  {
   "cell_type": "code",
   "execution_count": null,
   "metadata": {},
   "outputs": [],
   "source": [
    "referral['collapsed_source'] = 'other'\n",
    "referral.loc[referral['referral_source_label'] == 'Self', 'collapsed_source'] = 'self'\n",
    "referral.loc[referral['referral_source_label'] == 'GP', 'collapsed_source'] = 'GP'\n",
    "referral.loc[referral['referral_source_label'] == 'Arrest Referral', 'collapsed_source'] = 'arrest referral'\n",
    "referral.loc[referral['referral_source_label'] == 'Drug Service Statutory', 'collapsed_source'] = 'statutory drug service'\n",
    "referral.loc[referral['referral_source_label'] == 'CARAT / Prison', 'collapsed_source'] = 'CARAT/prison'\n",
    "referral.loc[referral['referral_source_label'] == 'Drug service non- statutory', 'collapsed_source'] = 'non-statutory drug service'\n",
    "referral.loc[referral['referral_source_label'] == 'Hospital', 'collapsed_source'] = 'hospital'\n",
    "referral.loc[referral['referral_source_label'] == 'Probation', 'collapsed_source'] = 'probation'\n",
    "referral.loc[referral['referral_source_label'] == 'Community Alcohol Team', 'collapsed_source'] = 'community alcohol team'"
   ]
  },
  {
   "cell_type": "code",
   "execution_count": null,
   "metadata": {},
   "outputs": [],
   "source": [
    "groupby_plotsize(referral,'collapsed_source')"
   ]
  },
  {
   "cell_type": "code",
   "execution_count": null,
   "metadata": {},
   "outputs": [],
   "source": [
    "grouped = referral.groupby(['collapsed_source', pd.Grouper(freq='Y')]).count()\n",
    "ax = grouped.unstack(level='collapsed_source')['Episode'].plot()\n",
    "ax.set_xlim(pd.Timestamp('2007-01-01'), pd.Timestamp('2019-01-01'))\n",
    "ax.legend(loc='center left', bbox_to_anchor=(1, 0.5))\n",
    "ax"
   ]
  },
  {
   "cell_type": "code",
   "execution_count": null,
   "metadata": {},
   "outputs": [],
   "source": [
    "groupby_percent(referral,'collapsed_source', 'Episode')"
   ]
  },
  {
   "cell_type": "code",
   "execution_count": null,
   "metadata": {},
   "outputs": [],
   "source": [
    "sources = referral.groupby('referral_source_label').count().reset_index()\n",
    "sources['percent'] = 100*sources['Episode']/sources['Episode'].sum()\n",
    "sources = sources.sort_values(['percent'])\n",
    "print(sources.shape)\n",
    "sources[['referral_source_label','percent']]\n",
    "sources.plot(x='referral_source_label', y='percent', kind='barh', figsize=(10, 30), color='#2B8CC4')"
   ]
  },
  {
   "cell_type": "markdown",
   "metadata": {},
   "source": [
    "### Referral route"
   ]
  },
  {
   "cell_type": "code",
   "execution_count": null,
   "metadata": {},
   "outputs": [],
   "source": [
    "groupby_plotsize(referral,'ReferralRoute')"
   ]
  },
  {
   "cell_type": "code",
   "execution_count": null,
   "metadata": {},
   "outputs": [],
   "source": [
    "groupby_percent(referral,'ReferralRoute', 'Episode')"
   ]
  },
  {
   "cell_type": "markdown",
   "metadata": {},
   "source": [
    "### Referral route by source"
   ]
  },
  {
   "cell_type": "code",
   "execution_count": null,
   "metadata": {},
   "outputs": [],
   "source": [
    "x = pd.crosstab(referral.ReferralRoute, referral.collapsed_source, normalize='all')\n",
    "sns.heatmap(x, annot=False)"
   ]
  },
  {
   "cell_type": "code",
   "execution_count": null,
   "metadata": {},
   "outputs": [],
   "source": [
    "grouped = referral.groupby(['ReferralRoute', pd.Grouper(freq='Y')]).count()\n",
    "\n",
    "ax = grouped.unstack(level='ReferralRoute')['collapsed_source'].plot()\n",
    "ax.set_xlim(pd.Timestamp('2007-01-01'), pd.Timestamp('2019-01-01'))\n",
    "ax.legend(loc='center left', bbox_to_anchor=(1, 0.5))\n",
    "ax"
   ]
  },
  {
   "cell_type": "markdown",
   "metadata": {},
   "source": [
    "Still haven't looked at:\n",
    "\n",
    " - 'ReferrerID',\n",
    " - 'Organisation',\n",
    " - 'ReferralMadeDate',\n",
    " - 'ReferredModalityDate',\n",
    " - 'AssessmentDate',\n",
    " - 'ReferredModalities',\n",
    " - 'AssessmentAgency',\n",
    " - 'TreatmentReferredOptionOther',"
   ]
  },
  {
   "cell_type": "code",
   "execution_count": null,
   "metadata": {},
   "outputs": [],
   "source": []
  }
 ],
 "metadata": {
  "kernelspec": {
   "display_name": "Python 3",
   "language": "python",
   "name": "python3"
  },
  "language_info": {
   "codemirror_mode": {
    "name": "ipython",
    "version": 3
   },
   "file_extension": ".py",
   "mimetype": "text/x-python",
   "name": "python",
   "nbconvert_exporter": "python",
   "pygments_lexer": "ipython3",
   "version": "3.6.2"
  }
 },
 "nbformat": 4,
 "nbformat_minor": 1
}
