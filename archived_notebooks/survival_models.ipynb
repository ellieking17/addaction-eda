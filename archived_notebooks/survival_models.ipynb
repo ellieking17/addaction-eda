{
 "cells": [
  {
   "cell_type": "code",
   "execution_count": 52,
   "metadata": {},
   "outputs": [],
   "source": [
    "import pandas as pd\n",
    "import numpy as np\n",
    "import matplotlib.pyplot as plt\n",
    "%matplotlib inline\n",
    "import pprint\n",
    "import missingno as msno"
   ]
  },
  {
   "cell_type": "code",
   "execution_count": 2,
   "metadata": {},
   "outputs": [],
   "source": [
    "from lifelines import KaplanMeierFitter\n",
    "from lifelines.utils import datetimes_to_durations"
   ]
  },
  {
   "cell_type": "code",
   "execution_count": 3,
   "metadata": {},
   "outputs": [],
   "source": [
    "import altair as alt"
   ]
  },
  {
   "cell_type": "code",
   "execution_count": 4,
   "metadata": {},
   "outputs": [],
   "source": [
    "def open_table_list_columns(table):\n",
    "    table = pd.read_csv('/volumes/ellieking/Checked/'+table+'.csv', dtype=object)\n",
    "    pp = pprint.PrettyPrinter()\n",
    "    pp.pprint(list(table.columns))\n",
    "    return table"
   ]
  },
  {
   "cell_type": "markdown",
   "metadata": {},
   "source": [
    "### client table"
   ]
  },
  {
   "cell_type": "code",
   "execution_count": 5,
   "metadata": {},
   "outputs": [
    {
     "name": "stdout",
     "output_type": "stream",
     "text": [
      "['Serial',\n",
      " 'CurrentEpisode',\n",
      " 'Status',\n",
      " 'Service',\n",
      " 'ProjectCode',\n",
      " 'Gender',\n",
      " 'Nationality',\n",
      " 'RelationshipStatus',\n",
      " 'Ethnic_Origin',\n",
      " 'Religion',\n",
      " 'Sexuality',\n",
      " 'NoFixedAbode',\n",
      " 'Scrip_Index',\n",
      " 'Alert',\n",
      " 'CurrentKeyworker',\n",
      " 'CaseNumber',\n",
      " 'Office']\n"
     ]
    }
   ],
   "source": [
    "client = open_table_list_columns('Client')"
   ]
  },
  {
   "cell_type": "markdown",
   "metadata": {},
   "source": [
    "## Discharge"
   ]
  },
  {
   "cell_type": "code",
   "execution_count": 6,
   "metadata": {},
   "outputs": [
    {
     "name": "stdout",
     "output_type": "stream",
     "text": [
      "['DischargeID',\n",
      " 'Serial',\n",
      " 'Episode',\n",
      " 'EventID',\n",
      " 'DischargeDate',\n",
      " 'DateStarted',\n",
      " 'LetterToGP',\n",
      " 'LetterToClient',\n",
      " 'ModalityStatusCode',\n",
      " 'ReasonForClosure',\n",
      " 'Agency',\n",
      " 'YPSelfHarmExit',\n",
      " 'YPUnsafeDrugExit',\n",
      " 'YPOffendingExit',\n",
      " 'YPCAFExit',\n",
      " 'YPSaferSexExit',\n",
      " 'YPSexualHealthExit',\n",
      " 'YPRegisteredGPExit',\n",
      " 'YPGoalsExit',\n",
      " 'DischargeDestination',\n",
      " 'YPLeadProfessionalExit',\n",
      " 'YPMHServicesExit',\n",
      " 'YPYOTExit',\n",
      " 'YPSexualExploitationExit',\n",
      " 'YPContactLearningDifficultyTreatExit',\n",
      " 'YPSexuallyActiveTreatExit',\n",
      " 'EngagedInUnsafeSexAtTrtmntEnd',\n",
      " 'YPFreqOfUseOfDrug1AtTrtmntExit',\n",
      " 'ChildProtectionIssues',\n",
      " 'PlannedDateOfRecordRemoval',\n",
      " 'NDTMSDischargeDate',\n",
      " 'NDTMSReasonForClosure',\n",
      " 'NDTMSDischargeEventID',\n",
      " 'PrisonExitReason',\n",
      " 'PrisonExitDestination',\n",
      " 'ReferredTo',\n",
      " 'PreReleaseReviewDate',\n",
      " 'YPOfferedSupportFromOtherServices',\n",
      " 'DateOfDeath',\n",
      " 'AUDITScore',\n",
      " 'ImmunisationsAdministered',\n",
      " 'CounsellingDelivered',\n",
      " 'ClientCommittedSuicide',\n",
      " 'MentalHealthProblem',\n",
      " 'CareStatusAtTreatmentExit',\n",
      " 'DomesticAbuseAtTreatmentExit',\n",
      " 'EducationEmploymentTrainingStatus',\n",
      " 'AccommodationNeedAtTreatmentExit',\n",
      " 'PregnantAtTreatmentExit',\n",
      " 'ParentalStatusAtTreatmentExit',\n",
      " 'ChildProtectionPlanAtTreatmentExit',\n",
      " 'FeelAffectedBySubstanceMisuseAtTreatmentExit',\n",
      " 'SexualRiskTakingAtTMExit',\n",
      " 'GangInvolvementAtTMExit',\n",
      " 'FemaleGenitalMutilationAtTMExit',\n",
      " 'AsylumRefugeesAtTMExit',\n",
      " 'AtRiskOfExclusion',\n",
      " 'Sentenced']\n"
     ]
    }
   ],
   "source": [
    "discharge = open_table_list_columns('Discharge')"
   ]
  },
  {
   "cell_type": "code",
   "execution_count": 7,
   "metadata": {},
   "outputs": [],
   "source": [
    "discharge_codes_df = pd.read_csv('/Users/ellieking/Downloads/discharge_codes - Sheet1.csv', dtype=object)"
   ]
  },
  {
   "cell_type": "code",
   "execution_count": 8,
   "metadata": {},
   "outputs": [],
   "source": [
    "discharge_codes = pd.Series(discharge_codes_df.Text.values,index=discharge_codes_df.Code).to_dict()"
   ]
  },
  {
   "cell_type": "code",
   "execution_count": 9,
   "metadata": {},
   "outputs": [],
   "source": [
    "code = (\"80\",\"81\",\"82\",\"83\",\"84\",\"85\",\"86\",\"87\",\"88\",\"89\",\"93\",\"94\",\"95\",\"96\",\"97\",\"1\",\"2\",\"3\",\"4\",\"5\",\"6\",\"7\",\"8\",\"9\",\"10\",\"11\",\"12\",\"13\",\"14\",\"15\",\"16\",\"17\",\"18\",\"19\",\"20\",\"21\",\"22\",\"23\",\"24\",\"25\",\"26\",\"27\",\"28\",\"29\",\"30\",\"31\",\"32\",\"33\",\"34\",\"35\",\"36\",\"37\",\"38\",\"39\",\"40\",\"41\",\"42\",\"43\",\"44\",\"45\",\"46\",\"47\",\"48\",\"49\",\"50\",\"51\",\"52\",\"53\",\"54\",\"55\",\"56\",\"57\",\"58\",\"59\",\"60\",\"61\",\"62\",\"63\",\"64\",\"65\",\"66\",\"67\",\"68\",\"69\",\"70\",\"90\",\"91\",\"85\",\"88\",\"82\",\"85\",\"80\",\"84\",\"85\",\"83\",\"89\",\"13\",\"86\",\"87\",\"610\",\"600\",\"601\",\"602\",\"604\",\"605\",\"606\",\"611\",\"612\",\"613\",\"614\",\"615\",\"616\",\"617\",\"618\",\"619\",\"603\",\"607\",\"608\",\"609\",\"622\",\"620\",\"621\",\"623\",\"624\",\"625\",\"98\",\"99\") \n",
    "outcome = (\"S\",\"S\",\"S\",\"N\",\"N\",\"U\",\"U\",\"N\",\"U\",\"U\",\"N\",\"N\",\"N\",\"N\",\"N\",\"S\",\"S\",\"U\",\"U\",\"N\",\"U\",\"N\",\"N\",\"U\",\"U\",\"U\",\"U\",\"U\",\"N\",\"S\",\"S\",\"S\",\"S\",\"S\",\"S\",\"S\",\"S\",\"S\",\"S\",\"S\",\"S\",\"S\",\"S\",\"U\",\"U\",\"U\",\"U\",\"U\",\"U\",\"U\",\"U\",\"U\",\"U\",\"U\",\"U\",\"U\",\"U\",\"U\",\"U\",\"U\",\"U\",\"U\",\"U\",\"U\",\"N\",\"N\",\"N\",\"N\",\"N\",\"N\",\"N\",\"U\",\"U\",\"U\",\"U\",\"U\",\"U\",\"U\",\"U\",\"U\",\"U\",\"U\",\"U\",\"U\",\"U\",\"S\",\"S\",\"U\",\"U\",\"S\",\"U\",\"S\",\"N\",\"U\",\"N\",\"U\",\"U\",\"U\",\"N\",\"S\",\"N\",\"U\",\"N\",\"N\",\"U\",\"U\",\"U\",\"U\",\"U\",\"U\",\"U\",\"U\",\"U\",\"U\",\"U\",\"U\",\"U\",\"N\",\"S\",\"U\",\"U\",\"U\",\"U\",\"U\",\"N\",\"U\")\n",
    "\n",
    "code_outcomes = dict(zip(code, outcome))"
   ]
  },
  {
   "cell_type": "code",
   "execution_count": 10,
   "metadata": {},
   "outputs": [],
   "source": [
    "discharge['discharge_reason'] = discharge['NDTMSReasonForClosure'].map(discharge_codes).astype('category')"
   ]
  },
  {
   "cell_type": "code",
   "execution_count": 11,
   "metadata": {},
   "outputs": [],
   "source": [
    "discharge['outcome'] = discharge['NDTMSReasonForClosure'].map(code_outcomes).astype('category')"
   ]
  },
  {
   "cell_type": "markdown",
   "metadata": {},
   "source": [
    "### need to add episode info to features"
   ]
  },
  {
   "cell_type": "code",
   "execution_count": 12,
   "metadata": {},
   "outputs": [
    {
     "name": "stdout",
     "output_type": "stream",
     "text": [
      "['Serial',\n",
      " 'Episode',\n",
      " 'StartDate',\n",
      " 'EndDate',\n",
      " 'Agency',\n",
      " 'Tier2',\n",
      " 'Tier3',\n",
      " 'Tier4']\n"
     ]
    }
   ],
   "source": [
    "episode = open_table_list_columns('Episode')"
   ]
  },
  {
   "cell_type": "code",
   "execution_count": 13,
   "metadata": {},
   "outputs": [
    {
     "data": {
      "text/html": [
       "<div>\n",
       "<style scoped>\n",
       "    .dataframe tbody tr th:only-of-type {\n",
       "        vertical-align: middle;\n",
       "    }\n",
       "\n",
       "    .dataframe tbody tr th {\n",
       "        vertical-align: top;\n",
       "    }\n",
       "\n",
       "    .dataframe thead th {\n",
       "        text-align: right;\n",
       "    }\n",
       "</style>\n",
       "<table border=\"1\" class=\"dataframe\">\n",
       "  <thead>\n",
       "    <tr style=\"text-align: right;\">\n",
       "      <th></th>\n",
       "      <th>Serial</th>\n",
       "      <th>Episode</th>\n",
       "      <th>StartDate</th>\n",
       "      <th>EndDate</th>\n",
       "      <th>Agency</th>\n",
       "      <th>Tier2</th>\n",
       "      <th>Tier3</th>\n",
       "      <th>Tier4</th>\n",
       "    </tr>\n",
       "  </thead>\n",
       "  <tbody>\n",
       "    <tr>\n",
       "      <th>0</th>\n",
       "      <td>1448335</td>\n",
       "      <td>1</td>\n",
       "      <td>May 16 2009 12:00AM</td>\n",
       "      <td>Aug 24 2009 12:00AM</td>\n",
       "      <td>Dundee</td>\n",
       "      <td>0</td>\n",
       "      <td>0</td>\n",
       "      <td>0</td>\n",
       "    </tr>\n",
       "    <tr>\n",
       "      <th>1</th>\n",
       "      <td>1369062</td>\n",
       "      <td>1</td>\n",
       "      <td>Jul  9 2009 12:00AM</td>\n",
       "      <td>Oct 17 2009 12:00AM</td>\n",
       "      <td>Dundee</td>\n",
       "      <td>0</td>\n",
       "      <td>1</td>\n",
       "      <td>0</td>\n",
       "    </tr>\n",
       "    <tr>\n",
       "      <th>2</th>\n",
       "      <td>568952</td>\n",
       "      <td>1</td>\n",
       "      <td>Aug  3 2009 12:00AM</td>\n",
       "      <td>Sep 25 2009 12:00AM</td>\n",
       "      <td>Training</td>\n",
       "      <td>0</td>\n",
       "      <td>0</td>\n",
       "      <td>0</td>\n",
       "    </tr>\n",
       "    <tr>\n",
       "      <th>3</th>\n",
       "      <td>1230120</td>\n",
       "      <td>1</td>\n",
       "      <td>Jul 16 2009 12:00AM</td>\n",
       "      <td>Jan 22 2010 12:00AM</td>\n",
       "      <td>Dundee</td>\n",
       "      <td>0</td>\n",
       "      <td>0</td>\n",
       "      <td>0</td>\n",
       "    </tr>\n",
       "    <tr>\n",
       "      <th>4</th>\n",
       "      <td>1230120</td>\n",
       "      <td>2</td>\n",
       "      <td>Feb 15 2011 12:00AM</td>\n",
       "      <td>Mar  8 2011 12:00AM</td>\n",
       "      <td>Dundee</td>\n",
       "      <td>0</td>\n",
       "      <td>0</td>\n",
       "      <td>0</td>\n",
       "    </tr>\n",
       "  </tbody>\n",
       "</table>\n",
       "</div>"
      ],
      "text/plain": [
       "    Serial Episode            StartDate              EndDate    Agency Tier2  \\\n",
       "0  1448335       1  May 16 2009 12:00AM  Aug 24 2009 12:00AM    Dundee     0   \n",
       "1  1369062       1  Jul  9 2009 12:00AM  Oct 17 2009 12:00AM    Dundee     0   \n",
       "2   568952       1  Aug  3 2009 12:00AM  Sep 25 2009 12:00AM  Training     0   \n",
       "3  1230120       1  Jul 16 2009 12:00AM  Jan 22 2010 12:00AM    Dundee     0   \n",
       "4  1230120       2  Feb 15 2011 12:00AM  Mar  8 2011 12:00AM    Dundee     0   \n",
       "\n",
       "  Tier3 Tier4  \n",
       "0     0     0  \n",
       "1     1     0  \n",
       "2     0     0  \n",
       "3     0     0  \n",
       "4     0     0  "
      ]
     },
     "execution_count": 13,
     "metadata": {},
     "output_type": "execute_result"
    }
   ],
   "source": [
    "episode.head()"
   ]
  },
  {
   "cell_type": "markdown",
   "metadata": {},
   "source": [
    "Tier2 = structured treatmnet -regular 1to1 sessions\n",
    "Tier3 = unstructured -dropin to group work\n",
    "Tier4 = signposting"
   ]
  },
  {
   "cell_type": "code",
   "execution_count": 14,
   "metadata": {},
   "outputs": [
    {
     "data": {
      "text/plain": [
       "(286376, 8)"
      ]
     },
     "execution_count": 14,
     "metadata": {},
     "output_type": "execute_result"
    }
   ],
   "source": [
    "episode.shape"
   ]
  },
  {
   "cell_type": "code",
   "execution_count": 15,
   "metadata": {},
   "outputs": [
    {
     "data": {
      "text/plain": [
       "191212"
      ]
     },
     "execution_count": 15,
     "metadata": {},
     "output_type": "execute_result"
    }
   ],
   "source": [
    "episode.Serial.nunique()"
   ]
  },
  {
   "cell_type": "code",
   "execution_count": 16,
   "metadata": {},
   "outputs": [
    {
     "data": {
      "text/plain": [
       "16201"
      ]
     },
     "execution_count": 16,
     "metadata": {},
     "output_type": "execute_result"
    }
   ],
   "source": [
    "sum(episode.EndDate.isna())"
   ]
  },
  {
   "cell_type": "code",
   "execution_count": 17,
   "metadata": {},
   "outputs": [
    {
     "data": {
      "text/plain": [
       "0.08472794594481518"
      ]
     },
     "execution_count": 17,
     "metadata": {},
     "output_type": "execute_result"
    }
   ],
   "source": [
    "sum(episode.EndDate.isna())/episode.Serial.nunique()"
   ]
  },
  {
   "cell_type": "markdown",
   "metadata": {},
   "source": [
    "Less than 10% of episodes with missing end date (presumed to be in ongoing treatment?)"
   ]
  },
  {
   "cell_type": "code",
   "execution_count": 18,
   "metadata": {},
   "outputs": [
    {
     "data": {
      "text/plain": [
       "str"
      ]
     },
     "execution_count": 18,
     "metadata": {},
     "output_type": "execute_result"
    }
   ],
   "source": [
    "type(episode.EndDate[0])"
   ]
  },
  {
   "cell_type": "code",
   "execution_count": 19,
   "metadata": {},
   "outputs": [],
   "source": [
    "episode['start_date'] = pd.to_datetime(episode.StartDate)"
   ]
  },
  {
   "cell_type": "code",
   "execution_count": 20,
   "metadata": {},
   "outputs": [],
   "source": [
    "episode['end_date'] = pd.to_datetime(episode.EndDate)"
   ]
  },
  {
   "cell_type": "code",
   "execution_count": 26,
   "metadata": {},
   "outputs": [],
   "source": [
    "episode = episode.drop(['StartDate', 'EndDate'], axis=1).copy()"
   ]
  },
  {
   "cell_type": "code",
   "execution_count": 27,
   "metadata": {},
   "outputs": [],
   "source": [
    "episode['episode_duration'] = episode.end_date - episode.start_date"
   ]
  },
  {
   "cell_type": "code",
   "execution_count": 28,
   "metadata": {},
   "outputs": [
    {
     "data": {
      "text/html": [
       "<div>\n",
       "<style scoped>\n",
       "    .dataframe tbody tr th:only-of-type {\n",
       "        vertical-align: middle;\n",
       "    }\n",
       "\n",
       "    .dataframe tbody tr th {\n",
       "        vertical-align: top;\n",
       "    }\n",
       "\n",
       "    .dataframe thead th {\n",
       "        text-align: right;\n",
       "    }\n",
       "</style>\n",
       "<table border=\"1\" class=\"dataframe\">\n",
       "  <thead>\n",
       "    <tr style=\"text-align: right;\">\n",
       "      <th></th>\n",
       "      <th>Serial</th>\n",
       "      <th>Episode</th>\n",
       "      <th>Agency</th>\n",
       "      <th>Tier2</th>\n",
       "      <th>Tier3</th>\n",
       "      <th>Tier4</th>\n",
       "      <th>start_date</th>\n",
       "      <th>end_date</th>\n",
       "      <th>episode_duration</th>\n",
       "    </tr>\n",
       "  </thead>\n",
       "  <tbody>\n",
       "    <tr>\n",
       "      <th>0</th>\n",
       "      <td>1448335</td>\n",
       "      <td>1</td>\n",
       "      <td>Dundee</td>\n",
       "      <td>0</td>\n",
       "      <td>0</td>\n",
       "      <td>0</td>\n",
       "      <td>2009-05-16</td>\n",
       "      <td>2009-08-24</td>\n",
       "      <td>100 days</td>\n",
       "    </tr>\n",
       "    <tr>\n",
       "      <th>1</th>\n",
       "      <td>1369062</td>\n",
       "      <td>1</td>\n",
       "      <td>Dundee</td>\n",
       "      <td>0</td>\n",
       "      <td>1</td>\n",
       "      <td>0</td>\n",
       "      <td>2009-07-09</td>\n",
       "      <td>2009-10-17</td>\n",
       "      <td>100 days</td>\n",
       "    </tr>\n",
       "    <tr>\n",
       "      <th>2</th>\n",
       "      <td>568952</td>\n",
       "      <td>1</td>\n",
       "      <td>Training</td>\n",
       "      <td>0</td>\n",
       "      <td>0</td>\n",
       "      <td>0</td>\n",
       "      <td>2009-08-03</td>\n",
       "      <td>2009-09-25</td>\n",
       "      <td>53 days</td>\n",
       "    </tr>\n",
       "    <tr>\n",
       "      <th>3</th>\n",
       "      <td>1230120</td>\n",
       "      <td>1</td>\n",
       "      <td>Dundee</td>\n",
       "      <td>0</td>\n",
       "      <td>0</td>\n",
       "      <td>0</td>\n",
       "      <td>2009-07-16</td>\n",
       "      <td>2010-01-22</td>\n",
       "      <td>190 days</td>\n",
       "    </tr>\n",
       "    <tr>\n",
       "      <th>4</th>\n",
       "      <td>1230120</td>\n",
       "      <td>2</td>\n",
       "      <td>Dundee</td>\n",
       "      <td>0</td>\n",
       "      <td>0</td>\n",
       "      <td>0</td>\n",
       "      <td>2011-02-15</td>\n",
       "      <td>2011-03-08</td>\n",
       "      <td>21 days</td>\n",
       "    </tr>\n",
       "  </tbody>\n",
       "</table>\n",
       "</div>"
      ],
      "text/plain": [
       "    Serial Episode    Agency Tier2 Tier3 Tier4 start_date   end_date  \\\n",
       "0  1448335       1    Dundee     0     0     0 2009-05-16 2009-08-24   \n",
       "1  1369062       1    Dundee     0     1     0 2009-07-09 2009-10-17   \n",
       "2   568952       1  Training     0     0     0 2009-08-03 2009-09-25   \n",
       "3  1230120       1    Dundee     0     0     0 2009-07-16 2010-01-22   \n",
       "4  1230120       2    Dundee     0     0     0 2011-02-15 2011-03-08   \n",
       "\n",
       "  episode_duration  \n",
       "0         100 days  \n",
       "1         100 days  \n",
       "2          53 days  \n",
       "3         190 days  \n",
       "4          21 days  "
      ]
     },
     "execution_count": 28,
     "metadata": {},
     "output_type": "execute_result"
    }
   ],
   "source": [
    "episode.head()"
   ]
  },
  {
   "cell_type": "code",
   "execution_count": 29,
   "metadata": {},
   "outputs": [
    {
     "data": {
      "text/plain": [
       "0    185814\n",
       "1    100562\n",
       "Name: Tier2, dtype: int64"
      ]
     },
     "execution_count": 29,
     "metadata": {},
     "output_type": "execute_result"
    }
   ],
   "source": [
    "episode['Tier2'].value_counts()"
   ]
  },
  {
   "cell_type": "code",
   "execution_count": 30,
   "metadata": {},
   "outputs": [
    {
     "data": {
      "text/plain": [
       "0    0.648846\n",
       "1    0.351154\n",
       "Name: Tier2, dtype: float64"
      ]
     },
     "execution_count": 30,
     "metadata": {},
     "output_type": "execute_result"
    }
   ],
   "source": [
    "episode['Tier2'].value_counts(normalize=True)"
   ]
  },
  {
   "cell_type": "code",
   "execution_count": 31,
   "metadata": {},
   "outputs": [
    {
     "data": {
      "text/plain": [
       "0    171942\n",
       "1    114434\n",
       "Name: Tier3, dtype: int64"
      ]
     },
     "execution_count": 31,
     "metadata": {},
     "output_type": "execute_result"
    }
   ],
   "source": [
    "episode['Tier3'].value_counts()"
   ]
  },
  {
   "cell_type": "code",
   "execution_count": 32,
   "metadata": {},
   "outputs": [
    {
     "data": {
      "text/plain": [
       "0    0.600406\n",
       "1    0.399594\n",
       "Name: Tier3, dtype: float64"
      ]
     },
     "execution_count": 32,
     "metadata": {},
     "output_type": "execute_result"
    }
   ],
   "source": [
    "episode['Tier3'].value_counts(normalize=True)"
   ]
  },
  {
   "cell_type": "code",
   "execution_count": 33,
   "metadata": {},
   "outputs": [
    {
     "data": {
      "text/plain": [
       "0    286322\n",
       "1        54\n",
       "Name: Tier4, dtype: int64"
      ]
     },
     "execution_count": 33,
     "metadata": {},
     "output_type": "execute_result"
    }
   ],
   "source": [
    "episode['Tier4'].value_counts()"
   ]
  },
  {
   "cell_type": "code",
   "execution_count": 34,
   "metadata": {},
   "outputs": [
    {
     "data": {
      "text/plain": [
       "0    0.999811\n",
       "1    0.000189\n",
       "Name: Tier4, dtype: float64"
      ]
     },
     "execution_count": 34,
     "metadata": {},
     "output_type": "execute_result"
    }
   ],
   "source": [
    "episode['Tier4'].value_counts(normalize=True)"
   ]
  },
  {
   "cell_type": "code",
   "execution_count": 35,
   "metadata": {},
   "outputs": [
    {
     "data": {
      "text/plain": [
       "76"
      ]
     },
     "execution_count": 35,
     "metadata": {},
     "output_type": "execute_result"
    }
   ],
   "source": [
    "35+41"
   ]
  },
  {
   "cell_type": "code",
   "execution_count": 36,
   "metadata": {},
   "outputs": [
    {
     "data": {
      "text/plain": [
       "dtype('O')"
      ]
     },
     "execution_count": 36,
     "metadata": {},
     "output_type": "execute_result"
    }
   ],
   "source": [
    "episode.Tier2.dtype"
   ]
  },
  {
   "cell_type": "markdown",
   "metadata": {},
   "source": [
    "What does it mean if all Tiers are 0?"
   ]
  },
  {
   "cell_type": "code",
   "execution_count": 37,
   "metadata": {},
   "outputs": [
    {
     "data": {
      "text/plain": [
       "112422"
      ]
     },
     "execution_count": 37,
     "metadata": {},
     "output_type": "execute_result"
    }
   ],
   "source": [
    "len(episode[(episode['Tier2'] == '0') & (episode['Tier3'] == '0') & (episode['Tier4'] == '0')])"
   ]
  },
  {
   "cell_type": "code",
   "execution_count": 38,
   "metadata": {},
   "outputs": [
    {
     "data": {
      "text/plain": [
       "39.256781294521886"
      ]
     },
     "execution_count": 38,
     "metadata": {},
     "output_type": "execute_result"
    }
   ],
   "source": [
    "len(episode[(episode['Tier2'] == '0') & (episode['Tier3'] == '0') & (episode['Tier4'] == '0')])/episode.shape[0] *100"
   ]
  },
  {
   "cell_type": "code",
   "execution_count": 39,
   "metadata": {},
   "outputs": [
    {
     "data": {
      "text/plain": [
       "114"
      ]
     },
     "execution_count": 39,
     "metadata": {},
     "output_type": "execute_result"
    }
   ],
   "source": [
    "38 + 41 + 35 "
   ]
  },
  {
   "cell_type": "code",
   "execution_count": 40,
   "metadata": {},
   "outputs": [
    {
     "data": {
      "text/plain": [
       "14.338142861133615"
      ]
     },
     "execution_count": 40,
     "metadata": {},
     "output_type": "execute_result"
    }
   ],
   "source": [
    "len(episode[(episode['Tier2'] == '1') & (episode['Tier3'] == '1')])/episode.shape[0] *100"
   ]
  },
  {
   "cell_type": "code",
   "execution_count": 41,
   "metadata": {},
   "outputs": [
    {
     "data": {
      "text/plain": [
       "pandas._libs.tslib.Timedelta"
      ]
     },
     "execution_count": 41,
     "metadata": {},
     "output_type": "execute_result"
    }
   ],
   "source": [
    "type(episode['episode_duration'][0])"
   ]
  },
  {
   "cell_type": "code",
   "execution_count": 42,
   "metadata": {},
   "outputs": [
    {
     "data": {
      "text/plain": [
       "537"
      ]
     },
     "execution_count": 42,
     "metadata": {},
     "output_type": "execute_result"
    }
   ],
   "source": [
    "len(episode[episode['episode_duration'] < pd.Timedelta(0)])"
   ]
  },
  {
   "cell_type": "code",
   "execution_count": 43,
   "metadata": {},
   "outputs": [
    {
     "name": "stdout",
     "output_type": "stream",
     "text": [
      "percent of episodes with start date after end date: 0.18751571360728553\n"
     ]
    }
   ],
   "source": [
    "print(\"percent of episodes with start date after end date: {}\".format(len(episode[episode['episode_duration'] < pd.Timedelta(0)])/episode.shape[0] *100))"
   ]
  },
  {
   "cell_type": "markdown",
   "metadata": {},
   "source": [
    "537 episodes have a start date after the end date. These could be:  \n",
    "1) removed from data  \n",
    "2) reversed, assuming data entry\n",
    "3) Manually checked and errors determined\n",
    "4) checked with source for data entry errors\n",
    "\n",
    "\n",
    "For now remove these episodes as they only represent 0.19% of data"
   ]
  },
  {
   "cell_type": "code",
   "execution_count": 47,
   "metadata": {},
   "outputs": [
    {
     "name": "stdout",
     "output_type": "stream",
     "text": [
      "          KM_estimate\n",
      "timeline             \n",
      "0.0          1.000000\n",
      "1.0          0.986450\n",
      "2.0          0.978514\n",
      "3.0          0.971154\n",
      "4.0          0.964021\n",
      "5.0          0.957306\n",
      "6.0          0.948650\n",
      "7.0          0.935275\n",
      "8.0          0.925522\n",
      "9.0          0.918501\n",
      "10.0         0.911924\n",
      "11.0         0.905507\n",
      "12.0         0.898808\n",
      "13.0         0.889886\n",
      "14.0         0.877345\n",
      "15.0         0.868356\n",
      "16.0         0.861378\n",
      "17.0         0.855084\n",
      "18.0         0.848893\n",
      "19.0         0.842277\n",
      "20.0         0.833769\n",
      "21.0         0.822421\n",
      "22.0         0.813913\n",
      "23.0         0.807710\n",
      "24.0         0.801754\n",
      "25.0         0.795874\n",
      "26.0         0.789767\n",
      "27.0         0.781580\n",
      "28.0         0.770630\n",
      "29.0         0.762551\n",
      "...               ...\n",
      "8538.0       0.000123\n",
      "8548.0       0.000119\n",
      "8620.0       0.000115\n",
      "8640.0       0.000111\n",
      "8707.0       0.000107\n",
      "8732.0       0.000103\n",
      "8741.0       0.000099\n",
      "8770.0       0.000095\n",
      "8865.0       0.000091\n",
      "8875.0       0.000087\n",
      "8879.0       0.000083\n",
      "8907.0       0.000080\n",
      "8914.0       0.000076\n",
      "8936.0       0.000072\n",
      "8965.0       0.000068\n",
      "8969.0       0.000064\n",
      "9004.0       0.000060\n",
      "9153.0       0.000056\n",
      "9179.0       0.000052\n",
      "9209.0       0.000048\n",
      "9375.0       0.000044\n",
      "9433.0       0.000040\n",
      "9450.0       0.000036\n",
      "9710.0       0.000032\n",
      "9860.0       0.000024\n",
      "10066.0      0.000020\n",
      "10074.0      0.000016\n",
      "12053.0      0.000012\n",
      "13239.0      0.000004\n",
      "13767.0      0.000000\n",
      "\n",
      "[3691 rows x 1 columns]\n",
      "80.0\n"
     ]
    },
    {
     "data": {
      "text/plain": [
       "<matplotlib.axes._subplots.AxesSubplot at 0x1078ac7b8>"
      ]
     },
     "execution_count": 47,
     "metadata": {},
     "output_type": "execute_result"
    },
    {
     "data": {
      "image/png": "[encoded data removed]",
      "text/plain": [
       "<matplotlib.figure.Figure at 0x10d6c1908>"
      ]
     },
     "metadata": {},
     "output_type": "display_data"
    }
   ],
   "source": [
    "episode = episode[episode['episode_duration'] > pd.Timedelta(0)].copy()\n",
    "\n",
    "T, E = datetimes_to_durations(episode.start_date, episode.end_date)\n",
    "\n",
    "kmf = KaplanMeierFitter()\n",
    "kmf.fit(T, event_observed=E)\n",
    "\n",
    "print(kmf.survival_function_)\n",
    "print(kmf.median_)\n",
    "kmf.plot()"
   ]
  },
  {
   "cell_type": "code",
   "execution_count": 59,
   "metadata": {},
   "outputs": [
    {
     "name": "stdout",
     "output_type": "stream",
     "text": [
      "Median number of days in service for Tier2: 81.0\n",
      "Median number of days in service for Tier3: 80.0\n",
      "Median number of days in service for Tier4: 79.0\n"
     ]
    },
    {
     "data": {
      "image/png": "[encoded data removed]",
      "text/plain": [
       "<matplotlib.figure.Figure at 0x10f1439b0>"
      ]
     },
     "metadata": {},
     "output_type": "display_data"
    }
   ],
   "source": [
    "tiers = episode[['Tier2', 'Tier3', 'Tier4']]\n",
    "episode['tiers'] = pd.Series(tiers.columns[np.where(tiers!=0)[1]])\n",
    "\n",
    "tiers = episode['tiers'].unique()\n",
    "\n",
    "for i,tier in enumerate(tiers):\n",
    "    ax = plt.subplot(2, 3, i+1)\n",
    "    ix = episode['tiers'] == tier\n",
    "    kmf.fit( T[ix], E[ix], label=tier)\n",
    "    print('Median number of days in service for {}: {}'.format(tier, kmf.median_))\n",
    "    kmf.plot(ax=ax, legend=False)\n",
    "    plt.title(tier)\n",
    "    plt.xlim(0, 2000)\n",
    "    if i==0:\n",
    "        plt.ylabel('Frac. in service after $n$ days')\n",
    "plt.tight_layout()"
   ]
  },
  {
   "cell_type": "code",
   "execution_count": 60,
   "metadata": {},
   "outputs": [
    {
     "data": {
      "text/plain": [
       "count                      251511\n",
       "mean     195 days 02:27:39.477319\n",
       "std      430 days 07:05:30.108368\n",
       "min               1 days 00:00:00\n",
       "25%              32 days 00:00:00\n",
       "50%              80 days 00:00:00\n",
       "75%             188 days 00:00:00\n",
       "max           13767 days 00:00:00\n",
       "Name: episode_duration, dtype: object"
      ]
     },
     "execution_count": 60,
     "metadata": {},
     "output_type": "execute_result"
    }
   ],
   "source": [
    "episode['episode_duration'].describe()"
   ]
  },
  {
   "cell_type": "code",
   "execution_count": 61,
   "metadata": {},
   "outputs": [
    {
     "data": {
      "text/plain": [
       "<matplotlib.axes._subplots.AxesSubplot at 0x10f35a358>"
      ]
     },
     "execution_count": 61,
     "metadata": {},
     "output_type": "execute_result"
    },
    {
     "data": {
      "image/png": "[encoded data removed]",
      "text/plain": [
       "<matplotlib.figure.Figure at 0x110e4b6a0>"
      ]
     },
     "metadata": {},
     "output_type": "display_data"
    }
   ],
   "source": [
    "(episode['episode_duration'] / pd.Timedelta(days=1)).hist(bins =100)"
   ]
  },
  {
   "cell_type": "code",
   "execution_count": 62,
   "metadata": {},
   "outputs": [
    {
     "data": {
      "text/plain": [
       "770"
      ]
     },
     "execution_count": 62,
     "metadata": {},
     "output_type": "execute_result"
    }
   ],
   "source": [
    "len(episode[episode['episode_duration'] > pd.Timedelta(weeks=520)])"
   ]
  },
  {
   "cell_type": "code",
   "execution_count": 63,
   "metadata": {},
   "outputs": [
    {
     "data": {
      "text/plain": [
       "<matplotlib.axes._subplots.AxesSubplot at 0x1106774e0>"
      ]
     },
     "execution_count": 63,
     "metadata": {},
     "output_type": "execute_result"
    },
    {
     "data": {
      "image/png": "[encoded data removed]",
      "text/plain": [
       "<matplotlib.figure.Figure at 0x11208a6d8>"
      ]
     },
     "metadata": {},
     "output_type": "display_data"
    }
   ],
   "source": [
    "(episode['episode_duration'] / pd.Timedelta(days=1)).hist(bins =100)"
   ]
  },
  {
   "cell_type": "code",
   "execution_count": 64,
   "metadata": {},
   "outputs": [],
   "source": [
    "last3years = episode[episode['start_date'] > '2015-01-01']"
   ]
  },
  {
   "cell_type": "code",
   "execution_count": 65,
   "metadata": {},
   "outputs": [
    {
     "data": {
      "text/plain": [
       "(74172, 10)"
      ]
     },
     "execution_count": 65,
     "metadata": {},
     "output_type": "execute_result"
    }
   ],
   "source": [
    "last3years.shape"
   ]
  },
  {
   "cell_type": "code",
   "execution_count": 66,
   "metadata": {},
   "outputs": [
    {
     "data": {
      "text/plain": [
       "16.0721026802567"
      ]
     },
     "execution_count": 66,
     "metadata": {},
     "output_type": "execute_result"
    }
   ],
   "source": [
    "len(last3years[(last3years['Tier2'] == '1') & (last3years['Tier3'] == '1')])/last3years.shape[0] *100"
   ]
  },
  {
   "cell_type": "markdown",
   "metadata": {},
   "source": [
    "### Join episode to discharge"
   ]
  },
  {
   "cell_type": "code",
   "execution_count": 83,
   "metadata": {},
   "outputs": [],
   "source": [
    "epi_discharge = pd.merge(discharge, \n",
    "                         episode, \n",
    "                         on=['Serial',   'Episode'], \n",
    "                         how='outer', \n",
    "                         indicator=True, \n",
    "                         validate=\"1:1\"\n",
    "                        )"
   ]
  },
  {
   "cell_type": "code",
   "execution_count": 84,
   "metadata": {},
   "outputs": [],
   "source": [
    "epi_discharge_left = pd.merge(episode,\n",
    "                         discharge,\n",
    "                         on=['Serial', 'Agency',  'Episode'], \n",
    "                         how='left', \n",
    "                         indicator=True, \n",
    "                         validate=\"1:1\"\n",
    "                        )"
   ]
  },
  {
   "cell_type": "code",
   "execution_count": 85,
   "metadata": {},
   "outputs": [
    {
     "data": {
      "text/plain": [
       "_merge\n",
       "left_only        178\n",
       "right_only         0\n",
       "both          251333\n",
       "dtype: int64"
      ]
     },
     "execution_count": 85,
     "metadata": {},
     "output_type": "execute_result"
    }
   ],
   "source": [
    "epi_discharge_left.groupby('_merge').size()"
   ]
  },
  {
   "cell_type": "code",
   "execution_count": 86,
   "metadata": {},
   "outputs": [
    {
     "data": {
      "text/plain": [
       "Index(['DischargeID', 'Serial', 'Episode', 'EventID', 'DischargeDate',\n",
       "       'DateStarted', 'LetterToGP', 'LetterToClient', 'ModalityStatusCode',\n",
       "       'ReasonForClosure', 'Agency_x', 'YPSelfHarmExit', 'YPUnsafeDrugExit',\n",
       "       'YPOffendingExit', 'YPCAFExit', 'YPSaferSexExit', 'YPSexualHealthExit',\n",
       "       'YPRegisteredGPExit', 'YPGoalsExit', 'DischargeDestination',\n",
       "       'YPLeadProfessionalExit', 'YPMHServicesExit', 'YPYOTExit',\n",
       "       'YPSexualExploitationExit', 'YPContactLearningDifficultyTreatExit',\n",
       "       'YPSexuallyActiveTreatExit', 'EngagedInUnsafeSexAtTrtmntEnd',\n",
       "       'YPFreqOfUseOfDrug1AtTrtmntExit', 'ChildProtectionIssues',\n",
       "       'PlannedDateOfRecordRemoval', 'NDTMSDischargeDate',\n",
       "       'NDTMSReasonForClosure', 'NDTMSDischargeEventID', 'PrisonExitReason',\n",
       "       'PrisonExitDestination', 'ReferredTo', 'PreReleaseReviewDate',\n",
       "       'YPOfferedSupportFromOtherServices', 'DateOfDeath', 'AUDITScore',\n",
       "       'ImmunisationsAdministered', 'CounsellingDelivered',\n",
       "       'ClientCommittedSuicide', 'MentalHealthProblem',\n",
       "       'CareStatusAtTreatmentExit', 'DomesticAbuseAtTreatmentExit',\n",
       "       'EducationEmploymentTrainingStatus', 'AccommodationNeedAtTreatmentExit',\n",
       "       'PregnantAtTreatmentExit', 'ParentalStatusAtTreatmentExit',\n",
       "       'ChildProtectionPlanAtTreatmentExit',\n",
       "       'FeelAffectedBySubstanceMisuseAtTreatmentExit',\n",
       "       'SexualRiskTakingAtTMExit', 'GangInvolvementAtTMExit',\n",
       "       'FemaleGenitalMutilationAtTMExit', 'AsylumRefugeesAtTMExit',\n",
       "       'AtRiskOfExclusion', 'Sentenced', 'discharge_reason', 'outcome',\n",
       "       'Agency_y', 'Tier2', 'Tier3', 'Tier4', 'start_date', 'end_date',\n",
       "       'episode_duration', 'tiers', '_merge'],\n",
       "      dtype='object')"
      ]
     },
     "execution_count": 86,
     "metadata": {},
     "output_type": "execute_result"
    }
   ],
   "source": [
    "epi_discharge.columns"
   ]
  },
  {
   "cell_type": "code",
   "execution_count": 87,
   "metadata": {},
   "outputs": [
    {
     "data": {
      "text/plain": [
       "_merge\n",
       "left_only      19951\n",
       "right_only         0\n",
       "both          251511\n",
       "dtype: int64"
      ]
     },
     "execution_count": 87,
     "metadata": {},
     "output_type": "execute_result"
    }
   ],
   "source": [
    "epi_discharge.groupby('_merge').size()"
   ]
  },
  {
   "cell_type": "code",
   "execution_count": 88,
   "metadata": {},
   "outputs": [],
   "source": [
    "\n",
    "epi_discharge = epi_discharge.drop('_merge', axis=1).copy()"
   ]
  },
  {
   "cell_type": "code",
   "execution_count": 89,
   "metadata": {},
   "outputs": [],
   "source": [
    "epi_discharge['discharge_date'] = pd.to_datetime(epi_discharge.DischargeDate)"
   ]
  },
  {
   "cell_type": "code",
   "execution_count": 90,
   "metadata": {},
   "outputs": [
    {
     "data": {
      "text/plain": [
       "251507"
      ]
     },
     "execution_count": 90,
     "metadata": {},
     "output_type": "execute_result"
    }
   ],
   "source": [
    "sum(epi_discharge.discharge_date == epi_discharge.end_date)"
   ]
  },
  {
   "cell_type": "code",
   "execution_count": 97,
   "metadata": {},
   "outputs": [
    {
     "data": {
      "text/plain": [
       "19955"
      ]
     },
     "execution_count": 97,
     "metadata": {},
     "output_type": "execute_result"
    }
   ],
   "source": [
    "sum(epi_discharge.discharge_date != epi_discharge.end_date)"
   ]
  },
  {
   "cell_type": "code",
   "execution_count": 99,
   "metadata": {},
   "outputs": [
    {
     "data": {
      "text/plain": [
       "0"
      ]
     },
     "execution_count": 99,
     "metadata": {},
     "output_type": "execute_result"
    }
   ],
   "source": [
    "sum(epi_discharge['start_date'] > epi_discharge['end_date'])"
   ]
  },
  {
   "cell_type": "code",
   "execution_count": 104,
   "metadata": {},
   "outputs": [
    {
     "data": {
      "text/plain": [
       "732"
      ]
     },
     "execution_count": 104,
     "metadata": {},
     "output_type": "execute_result"
    }
   ],
   "source": [
    "sum(epi_discharge.discharge_date.isna())"
   ]
  },
  {
   "cell_type": "code",
   "execution_count": 105,
   "metadata": {},
   "outputs": [
    {
     "data": {
      "text/plain": [
       "19951"
      ]
     },
     "execution_count": 105,
     "metadata": {},
     "output_type": "execute_result"
    }
   ],
   "source": [
    "sum(epi_discharge.end_date.isna())"
   ]
  },
  {
   "cell_type": "code",
   "execution_count": 102,
   "metadata": {},
   "outputs": [
    {
     "name": "stderr",
     "output_type": "stream",
     "text": [
      "/usr/local/Cellar/python3/3.6.2/Frameworks/Python.framework/Versions/3.6/lib/python3.6/site-packages/lifelines/utils/__init__.py:373: UserWarning: Warning: some values of start_times are after end_times\n",
      "  warnings.warn(\"Warning: some values of start_times are after end_times\")\n"
     ]
    }
   ],
   "source": [
    "T, E = datetimes_to_durations(epi_discharge.start_date, epi_discharge.discharge_date)"
   ]
  },
  {
   "cell_type": "code",
   "execution_count": 107,
   "metadata": {},
   "outputs": [],
   "source": [
    "T = epi_discharge.episode_duration\n",
    "E = np.where(epi_discharge.discharge_date.isna(), 0, 1 )"
   ]
  },
  {
   "cell_type": "code",
   "execution_count": 108,
   "metadata": {},
   "outputs": [
    {
     "ename": "TypeError",
     "evalue": "NaNs were detected in the duration_col and/or the event_col",
     "output_type": "error",
     "traceback": [
      "\u001b[0;31m---------------------------------------------------------------------------\u001b[0m",
      "\u001b[0;31mTypeError\u001b[0m                                 Traceback (most recent call last)",
      "\u001b[0;32m<ipython-input-108-219814926089>\u001b[0m in \u001b[0;36m<module>\u001b[0;34m()\u001b[0m\n\u001b[1;32m      2\u001b[0m \u001b[0;34m\u001b[0m\u001b[0m\n\u001b[1;32m      3\u001b[0m kmf.fit(T[epi_discharge[\"outcome\"] == \"S\"], event_observed=E[epi_discharge[\"outcome\"] == \"S\"], \n\u001b[0;32m----> 4\u001b[0;31m         label=\"successful outcome\")\n\u001b[0m\u001b[1;32m      5\u001b[0m \u001b[0mkmf\u001b[0m\u001b[0;34m.\u001b[0m\u001b[0mplot\u001b[0m\u001b[0;34m(\u001b[0m\u001b[0max\u001b[0m\u001b[0;34m=\u001b[0m\u001b[0max\u001b[0m\u001b[0;34m,\u001b[0m \u001b[0mci_force_lines\u001b[0m\u001b[0;34m=\u001b[0m\u001b[0;32mTrue\u001b[0m\u001b[0;34m)\u001b[0m\u001b[0;34m\u001b[0m\u001b[0m\n\u001b[1;32m      6\u001b[0m kmf.fit(T[epi_discharge[\"outcome\"] == \"U\"], event_observed=E[epi_discharge[\"outcome\"] == \"U\"], \n",
      "\u001b[0;32m/usr/local/Cellar/python3/3.6.2/Frameworks/Python.framework/Versions/3.6/lib/python3.6/site-packages/lifelines/fitters/kaplan_meier_fitter.py\u001b[0m in \u001b[0;36mfit\u001b[0;34m(self, durations, event_observed, timeline, entry, label, alpha, left_censorship, ci_labels, weights)\u001b[0m\n\u001b[1;32m     48\u001b[0m         \"\"\"\n\u001b[1;32m     49\u001b[0m \u001b[0;34m\u001b[0m\u001b[0m\n\u001b[0;32m---> 50\u001b[0;31m         \u001b[0mcheck_nans\u001b[0m\u001b[0;34m(\u001b[0m\u001b[0mdurations\u001b[0m\u001b[0;34m)\u001b[0m\u001b[0;34m\u001b[0m\u001b[0m\n\u001b[0m\u001b[1;32m     51\u001b[0m         \u001b[0;32mif\u001b[0m \u001b[0mevent_observed\u001b[0m \u001b[0;32mis\u001b[0m \u001b[0;32mnot\u001b[0m \u001b[0;32mNone\u001b[0m\u001b[0;34m:\u001b[0m\u001b[0;34m\u001b[0m\u001b[0m\n\u001b[1;32m     52\u001b[0m             \u001b[0mcheck_nans\u001b[0m\u001b[0;34m(\u001b[0m\u001b[0mevent_observed\u001b[0m\u001b[0;34m)\u001b[0m\u001b[0;34m\u001b[0m\u001b[0m\n",
      "\u001b[0;32m/usr/local/Cellar/python3/3.6.2/Frameworks/Python.framework/Versions/3.6/lib/python3.6/site-packages/lifelines/utils/__init__.py\u001b[0m in \u001b[0;36mcheck_nans\u001b[0;34m(array)\u001b[0m\n\u001b[1;32m   1089\u001b[0m \u001b[0;32mdef\u001b[0m \u001b[0mcheck_nans\u001b[0m\u001b[0;34m(\u001b[0m\u001b[0marray\u001b[0m\u001b[0;34m)\u001b[0m\u001b[0;34m:\u001b[0m\u001b[0;34m\u001b[0m\u001b[0m\n\u001b[1;32m   1090\u001b[0m     \u001b[0;32mif\u001b[0m \u001b[0mpd\u001b[0m\u001b[0;34m.\u001b[0m\u001b[0misnull\u001b[0m\u001b[0;34m(\u001b[0m\u001b[0marray\u001b[0m\u001b[0;34m)\u001b[0m\u001b[0;34m.\u001b[0m\u001b[0many\u001b[0m\u001b[0;34m(\u001b[0m\u001b[0;34m)\u001b[0m\u001b[0;34m:\u001b[0m\u001b[0;34m\u001b[0m\u001b[0m\n\u001b[0;32m-> 1091\u001b[0;31m         \u001b[0;32mraise\u001b[0m \u001b[0mTypeError\u001b[0m\u001b[0;34m(\u001b[0m\u001b[0;34m\"NaNs were detected in the duration_col and/or the event_col\"\u001b[0m\u001b[0;34m)\u001b[0m\u001b[0;34m\u001b[0m\u001b[0m\n\u001b[0m\u001b[1;32m   1092\u001b[0m \u001b[0;34m\u001b[0m\u001b[0m\n\u001b[1;32m   1093\u001b[0m \u001b[0;34m\u001b[0m\u001b[0m\n",
      "\u001b[0;31mTypeError\u001b[0m: NaNs were detected in the duration_col and/or the event_col"
     ]
    },
    {
     "data": {
      "image/png": "[encoded data removed]",
      "text/plain": [
       "<matplotlib.figure.Figure at 0x10f09b908>"
      ]
     },
     "metadata": {},
     "output_type": "display_data"
    }
   ],
   "source": [
    "ax = plt.subplot(111)\n",
    "\n",
    "kmf.fit(T[epi_discharge[\"outcome\"] == \"S\"], event_observed=E[epi_discharge[\"outcome\"] == \"S\"], \n",
    "        label=\"successful outcome\")\n",
    "kmf.plot(ax=ax, ci_force_lines=True)\n",
    "kmf.fit(T[epi_discharge[\"outcome\"] == \"U\"], event_observed=E[epi_discharge[\"outcome\"] == \"U\"], \n",
    "        label=\"unsuccessful outcome\")\n",
    "kmf.plot(ax=ax, ci_force_lines=True)\n",
    "kmf.fit(T[epi_discharge[\"outcome\"] == \"N\"], event_observed=E[epi_discharge[\"outcome\"] == \"N\"], \n",
    "        label=\"neutral outcome\")\n",
    "kmf.plot(ax=ax, ci_force_lines=True)\n",
    "\n",
    "plt.ylim(0, 1);\n",
    "plt.title(\"Time in service by outcome success\");"
   ]
  },
  {
   "cell_type": "markdown",
   "metadata": {},
   "source": [
    "### Join client to epi_dicharge"
   ]
  },
  {
   "cell_type": "code",
   "execution_count": null,
   "metadata": {},
   "outputs": [],
   "source": [
    "client_epi_disch = pd.merge(client, \n",
    "                         epi_discharge, \n",
    "                         on=['Serial'], \n",
    "                         how='outer', \n",
    "                         indicator=True, \n",
    "                         validate=\"1:m\"\n",
    "                        )"
   ]
  },
  {
   "cell_type": "code",
   "execution_count": null,
   "metadata": {},
   "outputs": [],
   "source": [
    "client_epi_disch.groupby('_merge').size()"
   ]
  },
  {
   "cell_type": "code",
   "execution_count": null,
   "metadata": {},
   "outputs": [],
   "source": [
    "pd.crosstab(client_epi_disch['disch_not_epi'], client_epi_disch['_merge'])"
   ]
  },
  {
   "cell_type": "code",
   "execution_count": null,
   "metadata": {},
   "outputs": [],
   "source": [
    "pd.crosstab(client_epi_disch['disch_not_epi'], client_epi_disch['Status'])"
   ]
  },
  {
   "cell_type": "code",
   "execution_count": null,
   "metadata": {},
   "outputs": [],
   "source": [
    "client_epi_disch['client_not_epi_disch'] = client_epi_disch['_merge']\n",
    "client_epi_disch = client_epi_disch.drop('_merge', axis=1).copy()"
   ]
  },
  {
   "cell_type": "markdown",
   "metadata": {},
   "source": [
    "### Join referrals to client_epi_dicharge"
   ]
  },
  {
   "cell_type": "code",
   "execution_count": null,
   "metadata": {},
   "outputs": [],
   "source": [
    "referral = open_table_list_columns('Referral')"
   ]
  },
  {
   "cell_type": "code",
   "execution_count": null,
   "metadata": {},
   "outputs": [],
   "source": [
    "ref_client_epi_disch = pd.merge(referral, \n",
    "                         client_epi_disch, \n",
    "                         on=['Serial', 'Episode'], \n",
    "                         how='outer', \n",
    "                         indicator=True, \n",
    "                         validate=\"1:m\"\n",
    "                        )"
   ]
  },
  {
   "cell_type": "code",
   "execution_count": null,
   "metadata": {},
   "outputs": [],
   "source": [
    "ref_client_epi_disch.groupby('_merge').size()"
   ]
  },
  {
   "cell_type": "code",
   "execution_count": null,
   "metadata": {},
   "outputs": [],
   "source": [
    "ref_client_epi_disch.shape"
   ]
  },
  {
   "cell_type": "code",
   "execution_count": null,
   "metadata": {},
   "outputs": [],
   "source": [
    "pp = pprint.PrettyPrinter()\n",
    "pp.pprint(list(ref_client_epi_disch.columns))\n",
    "    "
   ]
  },
  {
   "cell_type": "code",
   "execution_count": null,
   "metadata": {},
   "outputs": [],
   "source": [
    "msno.matrix(ref_client_epi_disch[['ReferralID',\n",
    " 'Serial',\n",
    " 'Episode',\n",
    " 'ReferrerID',\n",
    " 'Organisation',\n",
    " 'IsPrimary',\n",
    " 'ReferralSource',\n",
    " 'ReferralDate',\n",
    " 'ReferralMadeDate',\n",
    " 'ReferredModalityDate',\n",
    " 'ReferralRoute',\n",
    " 'AssessmentDate',\n",
    " 'ReferredModalities',\n",
    " 'AssessmentAgency',\n",
    " 'TreatmentReferredOption1',\n",
    " 'TreatmentReferredOption2',\n",
    " 'TreatmentReferredOption3',\n",
    " 'TreatmentReferredOptionOther',\n",
    " 'PresentingProblem',\n",
    " 'CurrentEpisode',\n",
    " 'Status',\n",
    " 'Service',\n",
    " 'ProjectCode',\n",
    " 'Gender',\n",
    " 'outcome']].sample(250))\n",
    "    "
   ]
  },
  {
   "cell_type": "code",
   "execution_count": null,
   "metadata": {},
   "outputs": [],
   "source": [
    "msno.matrix(ref_client_epi_disch[['Nationality',\n",
    " 'RelationshipStatus',\n",
    " 'Ethnic_Origin',\n",
    " 'Religion',\n",
    " 'Sexuality',\n",
    " 'NoFixedAbode',\n",
    " 'Scrip_Index',\n",
    " 'Alert',\n",
    " 'CurrentKeyworker',\n",
    " 'CaseNumber',\n",
    " 'Office',\n",
    " 'DischargeID',\n",
    " 'EventID',\n",
    " 'DischargeDate',\n",
    " 'DateStarted',\n",
    " 'LetterToGP',\n",
    " 'LetterToClient',\n",
    " 'ModalityStatusCode',\n",
    " 'ReasonForClosure',\n",
    " 'Agency_x',\n",
    " 'YPSelfHarmExit',\n",
    " 'YPUnsafeDrugExit',\n",
    " 'YPOffendingExit',\n",
    " 'YPCAFExit',\n",
    " 'YPSaferSexExit',\n",
    " 'YPSexualHealthExit',\n",
    " 'YPRegisteredGPExit',\n",
    " 'YPGoalsExit',\n",
    " 'DischargeDestination',\n",
    " 'YPLeadProfessionalExit',\n",
    " 'YPMHServicesExit',\n",
    " 'YPYOTExit',\n",
    " 'outcome']].sample(3000))\n",
    "    "
   ]
  },
  {
   "cell_type": "code",
   "execution_count": null,
   "metadata": {},
   "outputs": [],
   "source": [
    "msno.matrix(ref_client_epi_disch[['YPSexualExploitationExit',\n",
    " 'YPContactLearningDifficultyTreatExit',\n",
    " 'YPSexuallyActiveTreatExit',\n",
    " 'EngagedInUnsafeSexAtTrtmntEnd',\n",
    " 'YPFreqOfUseOfDrug1AtTrtmntExit',\n",
    " 'ChildProtectionIssues',\n",
    " 'PlannedDateOfRecordRemoval',\n",
    " 'NDTMSDischargeDate',\n",
    " 'NDTMSReasonForClosure',\n",
    " 'NDTMSDischargeEventID',\n",
    " 'PrisonExitReason',\n",
    " 'PrisonExitDestination',\n",
    " 'ReferredTo',\n",
    " 'PreReleaseReviewDate',\n",
    " 'YPOfferedSupportFromOtherServices',\n",
    " 'DateOfDeath',\n",
    " 'AUDITScore',\n",
    " 'ImmunisationsAdministered',\n",
    " 'CounsellingDelivered',\n",
    " 'ClientCommittedSuicide',\n",
    " 'MentalHealthProblem',\n",
    " 'CareStatusAtTreatmentExit',\n",
    " 'DomesticAbuseAtTreatmentExit',\n",
    " 'EducationEmploymentTrainingStatus',\n",
    " 'AccommodationNeedAtTreatmentExit',\n",
    " 'PregnantAtTreatmentExit',\n",
    " 'ParentalStatusAtTreatmentExit',\n",
    " 'ChildProtectionPlanAtTreatmentExit',\n",
    " 'FeelAffectedBySubstanceMisuseAtTreatmentExit',\n",
    " 'SexualRiskTakingAtTMExit',\n",
    " 'GangInvolvementAtTMExit',\n",
    " 'FemaleGenitalMutilationAtTMExit',\n",
    " 'AsylumRefugeesAtTMExit',\n",
    " 'AtRiskOfExclusion',\n",
    " 'Sentenced',\n",
    " 'discharge_reason',\n",
    " 'outcome',\n",
    " 'Agency_y',\n",
    " 'Tier2',\n",
    " 'Tier3',\n",
    " 'Tier4',\n",
    " 'start_date',\n",
    " 'end_date',\n",
    " 'episode_duration',\n",
    " 'disch_not_epi',\n",
    " 'client_not_epi_disch']].sample(3000))\n",
    "    "
   ]
  },
  {
   "cell_type": "code",
   "execution_count": null,
   "metadata": {},
   "outputs": [],
   "source": [
    "msno.heatmap(ref_client_epi_disch, fontsize=8)"
   ]
  },
  {
   "cell_type": "code",
   "execution_count": null,
   "metadata": {
    "scrolled": true
   },
   "outputs": [],
   "source": [
    "msno.dendrogram(ref_client_epi_disch, orientation='left')"
   ]
  },
  {
   "cell_type": "code",
   "execution_count": null,
   "metadata": {},
   "outputs": [],
   "source": [
    "ref_client_epi_disch['ReferralRoute'].value_counts()\n",
    "#ref_client_epi_disch['ReferralSource'].sum().sort_values(ascending=True).plot(kind = 'barh', figsize=(10, 5))"
   ]
  },
  {
   "cell_type": "code",
   "execution_count": null,
   "metadata": {},
   "outputs": [],
   "source": [
    "ref_client_epi_disch[['outcome','ReferralRoute']].groupby(['outcome','ReferralRoute']).size().sort_values(ascending=True).plot(kind = 'barh', figsize=(10, 5))\n",
    "#ref_client_epi_disch['ReferralSource'].sum().sort_values(ascending=True).plot(kind = 'barh', figsize=(10, 5))"
   ]
  },
  {
   "cell_type": "code",
   "execution_count": null,
   "metadata": {},
   "outputs": [],
   "source": [
    "def plot_time_metric_byvar(df, metric, byvar):\n",
    "    grouped = df.groupby([byvar, pd.Grouper(freq='D')])[metric].sum()\n",
    "    by_day = grouped.unstack(byvar, fill_value=0)\n",
    "    top = by_day.iloc[:, by_day.columns.isin(by_day.min().sort_values(ascending=False)[:10].index)]\n",
    "    bottom = by_day.iloc[:, by_day.columns.isin(by_day.min().sort_values()[:10].index)]\n",
    "    \n",
    "    ax = top.plot()\n",
    "    ax.legend(loc='center left', bbox_to_anchor=(1, 0.5))\n",
    "    ax.set_ylabel(metric)\n",
    "    ax.set_xlabel('Date')\n",
    "    ax.set_title('Top 10 {}s for {}'.format(byvar, metric))\n",
    "    \n",
    "    ay = bottom.plot()\n",
    "    ay.legend(loc='center left', bbox_to_anchor=(1, 0.5))\n",
    "    ay.set_ylabel(metric)\n",
    "    ay.set_xlabel('Date')\n",
    "    ay.set_title('Bottom 10 {}s for {}'.format(byvar, metric))\n",
    "\n",
    "    return ax, ay"
   ]
  },
  {
   "cell_type": "code",
   "execution_count": null,
   "metadata": {},
   "outputs": [],
   "source": [
    "client_epi_disch['count'] = 1"
   ]
  },
  {
   "cell_type": "code",
   "execution_count": null,
   "metadata": {},
   "outputs": [],
   "source": [
    "client_epi_disch.index = client_epi_disch.end_date"
   ]
  },
  {
   "cell_type": "code",
   "execution_count": null,
   "metadata": {},
   "outputs": [],
   "source": [
    "grouped = client_epi_disch.groupby(['outcome', pd.Grouper(freq='Y')]).count()\n",
    "    "
   ]
  },
  {
   "cell_type": "code",
   "execution_count": null,
   "metadata": {},
   "outputs": [],
   "source": [
    "ax = grouped.unstack(level='outcome')['count'].plot()\n",
    "ax"
   ]
  },
  {
   "cell_type": "code",
   "execution_count": null,
   "metadata": {},
   "outputs": [],
   "source": [
    "from scipy.stats import chi2_contingency"
   ]
  },
  {
   "cell_type": "code",
   "execution_count": null,
   "metadata": {},
   "outputs": [],
   "source": []
  },
  {
   "cell_type": "code",
   "execution_count": null,
   "metadata": {},
   "outputs": [],
   "source": [
    "careplan = open_table_list_columns('Careplan')"
   ]
  },
  {
   "cell_type": "code",
   "execution_count": null,
   "metadata": {},
   "outputs": [],
   "source": [
    "careplan.head()"
   ]
  },
  {
   "cell_type": "code",
   "execution_count": null,
   "metadata": {},
   "outputs": [],
   "source": [
    "events1 = open_table_list_columns('Events_01')"
   ]
  },
  {
   "cell_type": "code",
   "execution_count": null,
   "metadata": {},
   "outputs": [],
   "source": [
    "events1"
   ]
  },
  {
   "cell_type": "code",
   "execution_count": null,
   "metadata": {},
   "outputs": [],
   "source": [
    "events2 =  open_table_list_columns('Events_02')"
   ]
  },
  {
   "cell_type": "code",
   "execution_count": null,
   "metadata": {},
   "outputs": [],
   "source": [
    "events2.shape"
   ]
  },
  {
   "cell_type": "code",
   "execution_count": null,
   "metadata": {},
   "outputs": [],
   "source": [
    "events3 = open_table_list_columns('Events_03')"
   ]
  },
  {
   "cell_type": "code",
   "execution_count": null,
   "metadata": {},
   "outputs": [],
   "source": [
    "events3.shape"
   ]
  },
  {
   "cell_type": "code",
   "execution_count": null,
   "metadata": {},
   "outputs": [],
   "source": [
    "events_join = pd.merge(events1,\n",
    "                         events2,\n",
    "                         on=['Serial', 'EventID'], \n",
    "                         how='outer', \n",
    "                         indicator=True, \n",
    "                         validate=\"1:1\"\n",
    "                        )"
   ]
  },
  {
   "cell_type": "code",
   "execution_count": null,
   "metadata": {},
   "outputs": [],
   "source": [
    "events_join['_merge'].value_counts()"
   ]
  },
  {
   "cell_type": "code",
   "execution_count": null,
   "metadata": {},
   "outputs": [],
   "source": [
    "import glob, os   \n",
    "\n",
    "\n",
    "path = '/volumes/ellieking/Checked/'                     # use your path\n",
    "all_files = glob.glob(os.path.join(path, \"Events_*.csv\"))     # advisable to use os.path.join as this makes concatenation OS independent\n",
    "\n",
    "df_from_each_file = (pd.read_csv(f, dtype=object, encoding = \"iso-8859-1\") for f in all_files)\n",
    "events   = pd.concat(df_from_each_file, ignore_index=True)\n",
    "\n"
   ]
  },
  {
   "cell_type": "code",
   "execution_count": null,
   "metadata": {},
   "outputs": [],
   "source": [
    "events.shape"
   ]
  },
  {
   "cell_type": "code",
   "execution_count": null,
   "metadata": {},
   "outputs": [],
   "source": [
    "events.columns"
   ]
  },
  {
   "cell_type": "code",
   "execution_count": null,
   "metadata": {},
   "outputs": [],
   "source": [
    "events.EventID.nunique()"
   ]
  },
  {
   "cell_type": "code",
   "execution_count": null,
   "metadata": {},
   "outputs": [],
   "source": [
    "events.Serial.nunique()"
   ]
  },
  {
   "cell_type": "code",
   "execution_count": null,
   "metadata": {},
   "outputs": [],
   "source": [
    "print('On average the are {} events per Serial'.format(\n",
    "    events.EventID.nunique()/events.Serial.nunique()))"
   ]
  },
  {
   "cell_type": "code",
   "execution_count": null,
   "metadata": {},
   "outputs": [],
   "source": [
    "events.groupby('EventID')['EventDate'].nunique().describe()"
   ]
  },
  {
   "cell_type": "markdown",
   "metadata": {},
   "source": [
    "Each row is a unique event and all events have only one eventdate"
   ]
  },
  {
   "cell_type": "code",
   "execution_count": null,
   "metadata": {},
   "outputs": [],
   "source": [
    "events_types2 = open_table_list_columns('EventsTypes_02')"
   ]
  },
  {
   "cell_type": "code",
   "execution_count": null,
   "metadata": {},
   "outputs": [],
   "source": [
    "\n",
    "all_files_type = glob.glob(os.path.join(path, \"EventsTypes_*.csv\"))     # advisable to use os.path.join as this makes concatenation OS independent\n",
    "\n",
    "df_from_each_file_type = (pd.read_csv(f, dtype=object, encoding = \"iso-8859-1\") for f in all_files_type)\n",
    "events_types   = pd.concat(df_from_each_file_type, ignore_index=True)\n",
    "\n"
   ]
  },
  {
   "cell_type": "code",
   "execution_count": null,
   "metadata": {},
   "outputs": [],
   "source": [
    "events_types.shape"
   ]
  },
  {
   "cell_type": "code",
   "execution_count": null,
   "metadata": {},
   "outputs": [],
   "source": [
    "events_types.head(20)"
   ]
  },
  {
   "cell_type": "code",
   "execution_count": null,
   "metadata": {},
   "outputs": [],
   "source": [
    "events_types.EventID.nunique()"
   ]
  },
  {
   "cell_type": "code",
   "execution_count": null,
   "metadata": {},
   "outputs": [],
   "source": [
    "events_types.ID.nunique()"
   ]
  },
  {
   "cell_type": "code",
   "execution_count": null,
   "metadata": {},
   "outputs": [],
   "source": [
    "events_types.EventType.nunique()"
   ]
  },
  {
   "cell_type": "code",
   "execution_count": null,
   "metadata": {},
   "outputs": [],
   "source": [
    "events_types.EventName.nunique()"
   ]
  },
  {
   "cell_type": "code",
   "execution_count": null,
   "metadata": {},
   "outputs": [],
   "source": [
    "events_types.groupby('EventID')['ID'].nunique().describe()"
   ]
  },
  {
   "cell_type": "code",
   "execution_count": null,
   "metadata": {},
   "outputs": [],
   "source": [
    "events_types.ID.nunique()/events_types.EventID.nunique()"
   ]
  },
  {
   "cell_type": "code",
   "execution_count": null,
   "metadata": {},
   "outputs": [],
   "source": [
    "harm_reduction = open_table_list_columns('HarmReduction')"
   ]
  },
  {
   "cell_type": "code",
   "execution_count": null,
   "metadata": {},
   "outputs": [],
   "source": [
    "harm_reduction.head()"
   ]
  },
  {
   "cell_type": "code",
   "execution_count": null,
   "metadata": {},
   "outputs": [],
   "source": [
    "modality = open_table_list_columns('Modality')"
   ]
  },
  {
   "cell_type": "code",
   "execution_count": null,
   "metadata": {},
   "outputs": [],
   "source": [
    "modality.head()"
   ]
  },
  {
   "cell_type": "markdown",
   "metadata": {},
   "source": [
    "### referral"
   ]
  },
  {
   "cell_type": "code",
   "execution_count": null,
   "metadata": {},
   "outputs": [],
   "source": [
    "referral = open_table_list_columns('Referral')"
   ]
  },
  {
   "cell_type": "code",
   "execution_count": null,
   "metadata": {},
   "outputs": [],
   "source": [
    "referral_discharge = pd.merge(referral,\n",
    "                         discharge,\n",
    "                         on=['Serial', 'Episode'], \n",
    "                         how='outer', \n",
    "                         indicator=True, \n",
    "                         validate=\"1:1\"\n",
    "                        )"
   ]
  },
  {
   "cell_type": "code",
   "execution_count": null,
   "metadata": {},
   "outputs": [],
   "source": [
    "referral_discharge.groupby('_merge').size()"
   ]
  },
  {
   "cell_type": "code",
   "execution_count": null,
   "metadata": {},
   "outputs": [],
   "source": [
    "referral_episode = pd.merge(referral,\n",
    "                         episode,\n",
    "                         on=['Serial', 'Episode'], \n",
    "                         how='outer', \n",
    "                         indicator=True, \n",
    "                         validate=\"1:1\"\n",
    "                        )"
   ]
  },
  {
   "cell_type": "code",
   "execution_count": null,
   "metadata": {},
   "outputs": [],
   "source": [
    "referral_episode.groupby('_merge').size()"
   ]
  },
  {
   "cell_type": "code",
   "execution_count": null,
   "metadata": {},
   "outputs": [],
   "source": [
    "14915 +19951"
   ]
  },
  {
   "cell_type": "code",
   "execution_count": null,
   "metadata": {},
   "outputs": [],
   "source": [
    "referral.head()"
   ]
  },
  {
   "cell_type": "code",
   "execution_count": null,
   "metadata": {},
   "outputs": [],
   "source": [
    "risk = open_table_list_columns('RiskAssessment')"
   ]
  },
  {
   "cell_type": "code",
   "execution_count": null,
   "metadata": {},
   "outputs": [],
   "source": [
    "risk.head()"
   ]
  },
  {
   "cell_type": "code",
   "execution_count": null,
   "metadata": {},
   "outputs": [],
   "source": [
    "scripts = open_table_list_columns('Scripts_3')"
   ]
  },
  {
   "cell_type": "code",
   "execution_count": null,
   "metadata": {},
   "outputs": [],
   "source": [
    "tag_manager = open_table_list_columns('TagManager')"
   ]
  },
  {
   "cell_type": "code",
   "execution_count": null,
   "metadata": {},
   "outputs": [],
   "source": [
    "tag_manager.head()"
   ]
  },
  {
   "cell_type": "code",
   "execution_count": null,
   "metadata": {},
   "outputs": [],
   "source": [
    "top = open_table_list_columns('TOP')"
   ]
  },
  {
   "cell_type": "code",
   "execution_count": null,
   "metadata": {},
   "outputs": [],
   "source": [
    "top.head()"
   ]
  },
  {
   "cell_type": "code",
   "execution_count": null,
   "metadata": {},
   "outputs": [],
   "source": [
    "top_plus = open_table_list_columns('TOPPlus')"
   ]
  },
  {
   "cell_type": "code",
   "execution_count": null,
   "metadata": {},
   "outputs": [],
   "source": [
    "top_plus.head()"
   ]
  },
  {
   "cell_type": "code",
   "execution_count": null,
   "metadata": {},
   "outputs": [],
   "source": [
    "open_table_list_columns('ClientInformationReview')"
   ]
  },
  {
   "cell_type": "code",
   "execution_count": null,
   "metadata": {},
   "outputs": [],
   "source": [
    "open_table_list_columns('ClientInjectingHistory')"
   ]
  },
  {
   "cell_type": "code",
   "execution_count": null,
   "metadata": {},
   "outputs": [],
   "source": [
    "open_table_list_columns('ClientSocial')"
   ]
  },
  {
   "cell_type": "code",
   "execution_count": null,
   "metadata": {},
   "outputs": [],
   "source": [
    "open_table_list_columns('ClientSubstanceAnalysis')"
   ]
  },
  {
   "cell_type": "code",
   "execution_count": null,
   "metadata": {},
   "outputs": [],
   "source": [
    "open_table_list_columns('ClientSubstanceType')"
   ]
  },
  {
   "cell_type": "code",
   "execution_count": null,
   "metadata": {},
   "outputs": [],
   "source": [
    "events_types1 = open_table_list_columns('EventsTypes_01')"
   ]
  },
  {
   "cell_type": "code",
   "execution_count": null,
   "metadata": {},
   "outputs": [],
   "source": [
    "events_types2 = open_table_list_columns('EventsTypes_02')"
   ]
  },
  {
   "cell_type": "code",
   "execution_count": null,
   "metadata": {},
   "outputs": [],
   "source": [
    "events_join2 = pd.merge(events1,\n",
    "                         events_types1,\n",
    "                         on=['EventID'], \n",
    "                         how='outer', \n",
    "                         indicator=True, \n",
    "                         validate=\"1:m\"\n",
    "                        )"
   ]
  },
  {
   "cell_type": "code",
   "execution_count": null,
   "metadata": {},
   "outputs": [],
   "source": [
    "events_join2['_merge'].value_counts()"
   ]
  },
  {
   "cell_type": "code",
   "execution_count": null,
   "metadata": {},
   "outputs": [],
   "source": []
  }
 ],
 "metadata": {
  "kernelspec": {
   "display_name": "Python 3",
   "language": "python",
   "name": "python3"
  },
  "language_info": {
   "codemirror_mode": {
    "name": "ipython",
    "version": 3
   },
   "file_extension": ".py",
   "mimetype": "text/x-python",
   "name": "python",
   "nbconvert_exporter": "python",
   "pygments_lexer": "ipython3",
   "version": "3.6.2"
  }
 },
 "nbformat": 4,
 "nbformat_minor": 1
}
